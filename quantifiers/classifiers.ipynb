{
 "cells": [
  {
   "cell_type": "markdown",
   "metadata": {},
   "source": [
    "## Softmax classifier approach\n",
    "\n",
    "This approach assumes that quantifiers are learned as a group and that essentially each q quantifier example is a negative example for quantifiers q' with q not equal to q. The interaction between quantifer "
   ]
  },
  {
   "cell_type": "markdown",
   "metadata": {},
   "source": [
    "## Global Imports"
   ]
  },
  {
   "cell_type": "code",
   "execution_count": 9,
   "metadata": {},
   "outputs": [],
   "source": [
    "import numpy as np\n",
    "import pandas as pd\n",
    "\n",
    "%load_ext autoreload\n",
    "%autoreload 2\n",
    "from quants import *"
   ]
  },
  {
   "cell_type": "markdown",
   "metadata": {},
   "source": [
    "### keras imports"
   ]
  },
  {
   "cell_type": "code",
   "execution_count": 10,
   "metadata": {},
   "outputs": [
    {
     "name": "stdout",
     "output_type": "stream",
     "text": [
      "TensorFlow version:  2.2.0\n"
     ]
    }
   ],
   "source": [
    "# keras imports\n",
    "\n",
    "import tensorflow as tf\n",
    "\n",
    "print(\"TensorFlow version: \", tf.__version__)\n",
    "\n",
    "import keras\n",
    "\n",
    "from keras.models import Sequential, Model\n",
    "from keras.layers import SimpleRNN, LSTM, Embedding, Dense, Conv1D, Conv2D, MaxPooling1D, UpSampling1D, Input, Bidirectional, RepeatVector, TimeDistributed, Dropout, LeakyReLU, Flatten\n",
    "from keras.utils import plot_model\n",
    "from keras.preprocessing.text import one_hot\n",
    "from keras.preprocessing.sequence import pad_sequences\n",
    "from keras.utils import np_utils\n",
    "\n",
    "from sklearn.model_selection import cross_val_score\n",
    "from sklearn.model_selection import KFold\n",
    "from sklearn.preprocessing import LabelEncoder, OneHotEncoder"
   ]
  },
  {
   "cell_type": "code",
   "execution_count": 3,
   "metadata": {
    "scrolled": true
   },
   "outputs": [
    {
     "data": {
      "text/plain": [
       "[LogicalDevice(name='/device:CPU:0', device_type='CPU'),\n",
       " LogicalDevice(name='/device:XLA_CPU:0', device_type='XLA_CPU'),\n",
       " LogicalDevice(name='/device:XLA_GPU:0', device_type='XLA_GPU'),\n",
       " LogicalDevice(name='/device:GPU:0', device_type='GPU')]"
      ]
     },
     "execution_count": 3,
     "metadata": {},
     "output_type": "execute_result"
    }
   ],
   "source": [
    "# from keras import backend as K\n",
    "# K.tensorflow_backend._get_available_gpus()\n",
    "tf.config.list_logical_devices()"
   ]
  },
  {
   "cell_type": "markdown",
   "metadata": {},
   "source": [
    "## Classifier models"
   ]
  },
  {
   "cell_type": "code",
   "execution_count": 11,
   "metadata": {},
   "outputs": [],
   "source": [
    "natural_quantifiers = [Both(), No(), Every(), Few(), Some(), Most()]"
   ]
  },
  {
   "cell_type": "code",
   "execution_count": 12,
   "metadata": {},
   "outputs": [],
   "source": [
    "unnatural_quantifiers = [MinMax(2, 10), MinMax(3, 6), Or([MinMax(2, 5), MinMax(10, 20)])]"
   ]
  },
  {
   "cell_type": "code",
   "execution_count": 13,
   "metadata": {},
   "outputs": [],
   "source": [
    "def DenseClassifier():\n",
    "    model = Sequential()\n",
    "    model.add(Embedding(len(symbols), 5, input_length=Quantifier.scenes_len))\n",
    "    model.add(Flatten())\n",
    "    model.add(Dropout(0.1))\n",
    "    model.add(Dense(25, activation='sigmoid'))\n",
    "    model.add(Dropout(0.1))\n",
    "    model.add(Dense(len(natural_quantifiers), activation='softmax'))\n",
    "    # Compile model\n",
    "    model.compile(loss='categorical_crossentropy', optimizer='adam', metrics=['accuracy'])\n",
    "    return model\n",
    "\n",
    "def CNNClassifier():\n",
    "    model= Sequential()\n",
    "#     model.add(Embedding(len(symbols), 3, input_length=Quantifier.scenes_len))\n",
    "    model.add(Conv2D(filters = 1, kernel_size=(1,3), strides=1, activation='sigmoid',padding='valid', input_shape=(Quantifier.scenes_len, 3,1)))\n",
    "    model.add(Flatten())\n",
    "    model.add(Dropout(0.25))\n",
    "    model.add(Dense(len(natural_quantifiers), activation='softmax'))\n",
    "    # Compile model\n",
    "    model.compile(loss='categorical_crossentropy', optimizer='adam', metrics=['accuracy'])\n",
    "    return model\n",
    "\n",
    "# def RNNClassifier():\n",
    "#     model = Sequential()\n",
    "#     model.add(Bidirectional(SimpleRNN(15, activation='sigmoid', input_shape=(Quantifier.scenes_len, 1))))\n",
    "#     model.add(Dropout(0.5))\n",
    "#     model.add(RepeatVector(Quantifier.scenes_len))\n",
    "#     model.add(SimpleRNN(15, activation='sigmoid', return_sequences=True))\n",
    "#     model.add(Dropout(0.5))\n",
    "#     model.add(TimeDistributed(Dense(1)))\n",
    "#     return model\n",
    "\n",
    "# def LSTMClassifier():\n",
    "#     model = Sequential()\n",
    "#     model.add(LSTM(15, activation='sigmoid', input_shape=(Quantifier.scenes_len, 1)))\n",
    "#     model.add(Dropout(0.5))\n",
    "#     model.add(RepeatVector(Quantifier.scenes_len))\n",
    "#     model.add(LSTM(15, activation='sigmoid', return_sequences=True))\n",
    "#     model.add(Dropout(0.5))\n",
    "#     model.add(TimeDistributed(Dense(1)))\n",
    "#     return model\n",
    "\n",
    "def BLSTMClassifier():\n",
    "    model = Sequential()\n",
    "    model.add(Embedding(len(symbols), 3, input_length=Quantifier.scenes_len))\n",
    "    model.add(Bidirectional(LSTM(15, activation='sigmoid', input_shape=(Quantifier.scenes_len, 1))))\n",
    "    model.add(Dropout(0.1))\n",
    "    model.add(RepeatVector(Quantifier.scenes_len))\n",
    "    model.add(Bidirectional(LSTM(15, activation='sigmoid', return_sequences=True)))\n",
    "    model.add(Dropout(0.1))\n",
    "    model.add(TimeDistributed(Dense(len(natural_quantifiers), activation='softmax')))\n",
    "    # Compile model\n",
    "    model.compile(loss='categorical_crossentropy', optimizer='adam', metrics=['accuracy'])\n",
    "    return model"
   ]
  },
  {
   "cell_type": "markdown",
   "metadata": {},
   "source": [
    "### learn"
   ]
  },
  {
   "cell_type": "code",
   "execution_count": null,
   "metadata": {},
   "outputs": [],
   "source": [
    "num_epochs = 100\n",
    "batch_size = 20\n",
    "\n",
    "def learn(scenes, labels):\n",
    "    model = DenseClassifier()\n",
    "#     model = CNNClassifier()\n",
    "#     model = RNNClassifier()\n",
    "#     model = LSTMClassifier()\n",
    "#     model = BLSTMClassifier()\n",
    "    plot_model(model, to_file='classifier_model.png', show_shapes=True)\n",
    "    model.fit(scenes, labels, batch_size=batch_size, epochs=num_epochs, verbose=1)\n",
    "    return model"
   ]
  },
  {
   "cell_type": "markdown",
   "metadata": {},
   "source": [
    "### test"
   ]
  },
  {
   "cell_type": "code",
   "execution_count": null,
   "metadata": {},
   "outputs": [],
   "source": [
    "generate_random_scenes(scenes_num=100)"
   ]
  },
  {
   "cell_type": "code",
   "execution_count": null,
   "metadata": {},
   "outputs": [],
   "source": [
    "def test_quantifer(model, quantifier):\n",
    "    test_size = 100\n",
    "\n",
    "    test_scenes = generate_random_scenes(scenes_num=test_size)\n",
    "    test_labels = [quantifier.quantify(test_scene) for test_scene in test_scenes]\n",
    "    test_results = [model.evaluate(test_scene.reshape(1, -1),\n",
    "                                   verbose=0) for test_scene in test_scenes]\n",
    "    thresh = np.mean(test_results)\n",
    "    test_thresh = [test_result < thresh for test_result in test_results]\n",
    "    print(np.sum(np.array(test_labels) == np.array(test_thresh)))"
   ]
  },
  {
   "cell_type": "code",
   "execution_count": null,
   "metadata": {},
   "outputs": [],
   "source": [
    "with tf.device(\"/cpu:0\"):\n",
    "# with tf.device(\"/gpu:0\"):\n",
    "    # generate scenes and labels\n",
    "    per_q_count = 1000\n",
    "    scenes = np.vstack([generate_quantified_scenes(q, per_q_count) for q in natural_quantifiers])\n",
    "    # encode class values as integers\n",
    "    encoder = LabelEncoder()\n",
    "    encoder.fit(natural_quantifiers_names)\n",
    "    encoded_Y = encoder.transform(np.concatenate([[q_name] * per_q_count\n",
    "                                                  for q_name in natural_quantifiers_names], axis = 0).reshape(-1, 1))\n",
    "    # convert integers to dummy variables (i.e. one hot encoded)\n",
    "    labels = np_utils.to_categorical(encoded_Y)\n",
    "\n",
    "    # fit model\n",
    "#     model = learn(Quantifier.one_hot(scenes).reshape(6000,100,3,1), labels)\n",
    "    model = learn(scenes, labels)"
   ]
  },
  {
   "cell_type": "code",
   "execution_count": null,
   "metadata": {},
   "outputs": [],
   "source": [
    "with tf.device(\"/cpu:0\"):\n",
    "# with tf.device(\"/gpu:0\"):\n",
    "    test_quantifer(model, natural_quantifiers[0])"
   ]
  }
 ],
 "metadata": {
  "kernelspec": {
   "display_name": "Python 3",
   "language": "python",
   "name": "python3"
  },
  "language_info": {
   "codemirror_mode": {
    "name": "ipython",
    "version": 3
   },
   "file_extension": ".py",
   "mimetype": "text/x-python",
   "name": "python",
   "nbconvert_exporter": "python",
   "pygments_lexer": "ipython3",
   "version": "3.8.2"
  }
 },
 "nbformat": 4,
 "nbformat_minor": 4
}
