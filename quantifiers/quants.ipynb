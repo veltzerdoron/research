{
 "cells": [
  {
   "cell_type": "markdown",
   "metadata": {},
   "source": [
    "# Quantifiers\n",
    "\n",
    "## Imports"
   ]
  },
  {
   "cell_type": "markdown",
   "metadata": {},
   "source": []
  },
  {
   "cell_type": "code",
   "execution_count": 1,
   "metadata": {},
   "outputs": [],
   "source": [
    "import tensorflow as tf\n",
    "import numpy as np"
   ]
  },
  {
   "cell_type": "markdown",
   "metadata": {},
   "source": [
    "## Define quantifiers"
   ]
  },
  {
   "cell_type": "code",
   "execution_count": 68,
   "metadata": {},
   "outputs": [],
   "source": [
    "\n",
    "# define 3 symbols for, member in a and b member in b but not a and irrelevant item scenes\n",
    "b_a_symbol = 0\n",
    "ab_symbol = 1\n",
    "dont_care_symbol = 2\n",
    "\n",
    "symbols = [b_a_symbol,\n",
    "           ab_symbol,\n",
    "           dont_care_symbol]\n",
    "\n",
    "\n",
    "def quantify(quantifier):\n",
    "    def quantified(scene):\n",
    "        # call the quantifier with as that are also bs and bs that are not as\n",
    "        unique_counts = dict(zip(*np.unique(scene, return_counts=True)))\n",
    "        return quantifier(unique_counts[ab_symbol], unique_counts[b_a_symbol])\n",
    "    return quantified\n",
    "\n",
    "@quantify\n",
    "def most(ab, b_a):\n",
    "    return ab > b_a and ab > 0\n",
    "\n",
    "@quantify\n",
    "def some(ab, b_a):\n",
    "    return ab > 0\n",
    "\n",
    "@quantify\n",
    "def one(ab, b_a):\n",
    "    return ab == 1\n",
    "\n",
    "@quantify\n",
    "def both(ab, b_a):\n",
    "    return ab == 2\n",
    "\n",
    "two = both\n",
    "\n",
    "@quantify\n",
    "def no(ab, b_a):\n",
    "    return ab == 0\n",
    "\n",
    "@quantify\n",
    "def every(ab, b_a):\n",
    "    return b_a == 0\n"
   ]
  },
  {
   "cell_type": "markdown",
   "metadata": {},
   "source": [
    "## Generated quantified scenes"
   ]
  },
  {
   "cell_type": "code",
   "execution_count": 62,
   "metadata": {},
   "outputs": [],
   "source": [
    "len_sequences = 100\n",
    "num_sequences = 300\n",
    "\n",
    "\n",
    "def generate_quantified_scenes(quantifier, len_sequences=len_sequences, num_sequences=num_sequences):\n",
    "    # define input scenes\n",
    "    scenes = []\n",
    "\n",
    "    for _ in range(num_sequences):\n",
    "        while True:\n",
    "            scene = np.random.choice(symbols, len_sequences)\n",
    "            if quantifier(scene):\n",
    "                scenes.append(scene)\n",
    "                break\n",
    "    # sanity check\n",
    "    assert(np.all([quantifier(scene) for scene in scenes]))\n",
    "    # make scenes a matrix for training\n",
    "    scenes = np.concatenate(scenes, axis=0)\n",
    "\n",
    "    # reshape input into [samples, timesteps, features]\n",
    "    scenes = scenes.reshape((num_sequences, len_sequences, 1))\n",
    "    return scenes"
   ]
  },
  {
   "cell_type": "code",
   "execution_count": 63,
   "metadata": {},
   "outputs": [],
   "source": [
    "scenes = generate_quantified_scenes(most)\n"
   ]
  },
  {
   "cell_type": "markdown",
   "metadata": {},
   "source": [
    "## keras model"
   ]
  },
  {
   "cell_type": "code",
   "execution_count": 51,
   "metadata": {},
   "outputs": [],
   "source": [
    "# keras imports\n",
    "\n",
    "import keras\n",
    "\n",
    "from keras.models import Sequential\n",
    "from keras.layers import LSTM, Dense, Bidirectional, RepeatVector, TimeDistributed, Dropout\n",
    "from keras.utils import plot_model"
   ]
  },
  {
   "cell_type": "code",
   "execution_count": 52,
   "metadata": {},
   "outputs": [
    {
     "data": {
      "text/plain": [
       "[LogicalDevice(name='/device:CPU:0', device_type='CPU'),\n",
       " LogicalDevice(name='/device:XLA_CPU:0', device_type='XLA_CPU')]"
      ]
     },
     "execution_count": 52,
     "metadata": {},
     "output_type": "execute_result"
    }
   ],
   "source": [
    "tf.config.list_logical_devices()"
   ]
  },
  {
   "cell_type": "code",
   "execution_count": 53,
   "metadata": {
    "scrolled": true
   },
   "outputs": [
    {
     "ename": "AttributeError",
     "evalue": "module 'tensorflow._api.v2.config' has no attribute 'experimental_list_devices'",
     "output_type": "error",
     "traceback": [
      "\u001b[0;31m---------------------------------------------------------------------------\u001b[0m",
      "\u001b[0;31mAttributeError\u001b[0m                            Traceback (most recent call last)",
      "\u001b[0;32m<ipython-input-53-3d00d838479b>\u001b[0m in \u001b[0;36m<module>\u001b[0;34m\u001b[0m\n\u001b[1;32m      1\u001b[0m \u001b[0;32mfrom\u001b[0m \u001b[0mkeras\u001b[0m \u001b[0;32mimport\u001b[0m \u001b[0mbackend\u001b[0m \u001b[0;32mas\u001b[0m \u001b[0mK\u001b[0m\u001b[0;34m\u001b[0m\u001b[0;34m\u001b[0m\u001b[0m\n\u001b[0;32m----> 2\u001b[0;31m \u001b[0mK\u001b[0m\u001b[0;34m.\u001b[0m\u001b[0mtensorflow_backend\u001b[0m\u001b[0;34m.\u001b[0m\u001b[0m_get_available_gpus\u001b[0m\u001b[0;34m(\u001b[0m\u001b[0;34m)\u001b[0m\u001b[0;34m\u001b[0m\u001b[0;34m\u001b[0m\u001b[0m\n\u001b[0m",
      "\u001b[0;32m~/git/research/RESEARCH/lib/python3.8/site-packages/keras/backend/tensorflow_backend.py\u001b[0m in \u001b[0;36m_get_available_gpus\u001b[0;34m()\u001b[0m\n\u001b[1;32m    504\u001b[0m             \u001b[0m_LOCAL_DEVICES\u001b[0m \u001b[0;34m=\u001b[0m \u001b[0;34m[\u001b[0m\u001b[0mx\u001b[0m\u001b[0;34m.\u001b[0m\u001b[0mname\u001b[0m \u001b[0;32mfor\u001b[0m \u001b[0mx\u001b[0m \u001b[0;32min\u001b[0m \u001b[0mdevices\u001b[0m\u001b[0;34m]\u001b[0m\u001b[0;34m\u001b[0m\u001b[0;34m\u001b[0m\u001b[0m\n\u001b[1;32m    505\u001b[0m         \u001b[0;32melse\u001b[0m\u001b[0;34m:\u001b[0m\u001b[0;34m\u001b[0m\u001b[0;34m\u001b[0m\u001b[0m\n\u001b[0;32m--> 506\u001b[0;31m             \u001b[0m_LOCAL_DEVICES\u001b[0m \u001b[0;34m=\u001b[0m \u001b[0mtf\u001b[0m\u001b[0;34m.\u001b[0m\u001b[0mconfig\u001b[0m\u001b[0;34m.\u001b[0m\u001b[0mexperimental_list_devices\u001b[0m\u001b[0;34m(\u001b[0m\u001b[0;34m)\u001b[0m\u001b[0;34m\u001b[0m\u001b[0;34m\u001b[0m\u001b[0m\n\u001b[0m\u001b[1;32m    507\u001b[0m     \u001b[0;32mreturn\u001b[0m \u001b[0;34m[\u001b[0m\u001b[0mx\u001b[0m \u001b[0;32mfor\u001b[0m \u001b[0mx\u001b[0m \u001b[0;32min\u001b[0m \u001b[0m_LOCAL_DEVICES\u001b[0m \u001b[0;32mif\u001b[0m \u001b[0;34m'device:gpu'\u001b[0m \u001b[0;32min\u001b[0m \u001b[0mx\u001b[0m\u001b[0;34m.\u001b[0m\u001b[0mlower\u001b[0m\u001b[0;34m(\u001b[0m\u001b[0;34m)\u001b[0m\u001b[0;34m]\u001b[0m\u001b[0;34m\u001b[0m\u001b[0;34m\u001b[0m\u001b[0m\n\u001b[1;32m    508\u001b[0m \u001b[0;34m\u001b[0m\u001b[0m\n",
      "\u001b[0;31mAttributeError\u001b[0m: module 'tensorflow._api.v2.config' has no attribute 'experimental_list_devices'"
     ]
    }
   ],
   "source": [
    "from keras import backend as K\n",
    "K.tensorflow_backend._get_available_gpus()"
   ]
  },
  {
   "cell_type": "code",
   "execution_count": 54,
   "metadata": {},
   "outputs": [],
   "source": [
    "# define model\n",
    "model = Sequential()\n",
    "model.add(Bidirectional(LSTM(200, activation='relu', input_shape=(len_sequences,1))))\n",
    "model.add(Dropout(0.5))\n",
    "model.add(RepeatVector(len_sequences))\n",
    "model.add(Bidirectional(LSTM(200, activation='relu', return_sequences=True)))\n",
    "model.add(Dropout(0.5))\n",
    "model.add(TimeDistributed(Dense(1)))\n",
    "model.compile(optimizer='adam', loss='mse')"
   ]
  },
  {
   "cell_type": "code",
   "execution_count": 55,
   "metadata": {},
   "outputs": [
    {
     "name": "stdout",
     "output_type": "stream",
     "text": [
      "Epoch 1/10\n",
      "300/300 [==============================] - 5s 17ms/step - loss: 1.0200\n",
      "Epoch 2/10\n",
      "300/300 [==============================] - 4s 15ms/step - loss: 0.7079\n",
      "Epoch 3/10\n",
      "300/300 [==============================] - 4s 14ms/step - loss: 0.6786\n",
      "Epoch 4/10\n",
      "300/300 [==============================] - 4s 14ms/step - loss: 0.6673\n",
      "Epoch 5/10\n",
      "300/300 [==============================] - 4s 14ms/step - loss: 0.6610\n",
      "Epoch 6/10\n",
      "300/300 [==============================] - 4s 14ms/step - loss: 0.6576\n",
      "Epoch 7/10\n",
      "300/300 [==============================] - 4s 14ms/step - loss: 0.6543\n",
      "Epoch 8/10\n",
      "300/300 [==============================] - 5s 16ms/step - loss: 0.6512\n",
      "Epoch 9/10\n",
      "300/300 [==============================] - 5s 15ms/step - loss: 0.6512\n",
      "Epoch 10/10\n",
      "300/300 [==============================] - 5s 16ms/step - loss: 0.6511\n"
     ]
    },
    {
     "data": {
      "image/png": "[encoded data removed]",
      "text/plain": [
       "<IPython.core.display.Image object>"
      ]
     },
     "execution_count": 55,
     "metadata": {},
     "output_type": "execute_result"
    }
   ],
   "source": [
    "# fit model\n",
    "num_epochs = 100\n",
    "model.fit(scenes, scenes, epochs=num_epochs, verbose=1)\n",
    "plot_model(model, show_shapes=True, to_file='reconstruct_lstm_autoencoder.png')"
   ]
  },
  {
   "cell_type": "markdown",
   "metadata": {},
   "source": [
    "## Test model predictions"
   ]
  },
  {
   "cell_type": "code",
   "execution_count": 66,
   "metadata": {},
   "outputs": [],
   "source": [
    "test_scenes = generate_quantified_scenes(most, num_sequences=10)"
   ]
  },
  {
   "cell_type": "code",
   "execution_count": 67,
   "metadata": {
    "scrolled": true
   },
   "outputs": [
    {
     "name": "stdout",
     "output_type": "stream",
     "text": [
      "\r",
      "10/10 [==============================] - 0s 3ms/step\n"
     ]
    },
    {
     "data": {
      "text/plain": [
       "0.6573564410209656"
      ]
     },
     "execution_count": 67,
     "metadata": {},
     "output_type": "execute_result"
    }
   ],
   "source": [
    "model.evaluate(test_scenes, test_scenes, verbose=1)"
   ]
  },
  {
   "cell_type": "code",
   "execution_count": null,
   "metadata": {},
   "outputs": [],
   "source": []
  },
  {
   "cell_type": "code",
   "execution_count": 39,
   "metadata": {},
   "outputs": [
    {
     "data": {
      "text/plain": [
       "[(array([0.82966554, 1.0978786 , 1.0846545 , 1.004488  , 0.993542  ,\n",
       "         1.0128545 , 1.0399047 , 1.063909  , 1.0796672 , 1.0881487 ,\n",
       "         1.0914261 , 1.091444  , 1.0898751 , 1.087848  , 1.0860306 ,\n",
       "         1.0847574 , 1.0841408 , 1.0841595 , 1.0847214 , 1.0857061 ,\n",
       "         1.08699   , 1.0884606 , 1.0900236 , 1.0916045 , 1.0931479 ,\n",
       "         1.0946153 , 1.0959821 , 1.0972342 , 1.0983664 , 1.099379  ,\n",
       "         1.1002764 , 1.1010664 , 1.1017568 , 1.1023573 , 1.1028771 ,\n",
       "         1.1033255 , 1.1037107 , 1.1040403 , 1.1043211 , 1.1045591 ,\n",
       "         1.1047597 , 1.104927  , 1.1050649 , 1.1051766 , 1.1052643 ,\n",
       "         1.1053302 , 1.1053755 , 1.1054015 , 1.1054085 , 1.1053973 ,\n",
       "         1.1053683 , 1.1053206 , 1.1052544 , 1.1051697 , 1.1050652 ,\n",
       "         1.1049417 , 1.1047986 , 1.1046351 , 1.1044527 , 1.1042508 ,\n",
       "         1.1040317 , 1.1037967 , 1.1035484 , 1.1032907 , 1.1030283 ,\n",
       "         1.1027675 , 1.1025155 , 1.1022828 , 1.1020807 , 1.1019229 ,\n",
       "         1.1018257 , 1.1018083 , 1.1018926 , 1.102103  , 1.1024666 ,\n",
       "         1.1030135 , 1.1037759 , 1.1047875 , 1.1060827 , 1.1076949 ,\n",
       "         1.1096554 , 1.1119909 , 1.1147194 , 1.1178471 , 1.1213632 ,\n",
       "         1.1252327 , 1.1293892 , 1.1337241 , 1.1380419 , 1.141953  ,\n",
       "         1.1450771 , 1.1469455 , 1.146991  , 1.1445857 , 1.141498  ,\n",
       "         1.1389545 , 1.1397107 , 1.1441959 , 1.151029  , 1.1588664 ],\n",
       "        dtype=float32),\n",
       "  array([0, 2, 0, 2, 2, 0, 2, 1, 2, 1, 2, 0, 1, 2, 1, 0, 0, 1, 2, 1, 0, 2,\n",
       "         2, 0, 0, 2, 0, 2, 0, 1, 1, 2, 2, 2, 1, 1, 0, 1, 2, 2, 0, 0, 1, 2,\n",
       "         1, 0, 0, 1, 0, 1, 1, 0, 2, 1, 2, 1, 0, 1, 2, 2, 1, 0, 2, 0, 0, 1,\n",
       "         2, 0, 1, 0, 0, 2, 1, 1, 2, 2, 2, 0, 1, 1, 1, 1, 0, 1, 0, 0, 2, 1,\n",
       "         1, 0, 1, 2, 1, 2, 0, 0, 1, 1, 2, 2])),\n",
       " (array([0.9186315 , 1.1836063 , 1.2043175 , 1.1390165 , 1.0878385 ,\n",
       "         1.07894   , 1.0866815 , 1.0966948 , 1.1024063 , 1.1040181 ,\n",
       "         1.1026543 , 1.099359  , 1.0952293 , 1.0910571 , 1.0873295 ,\n",
       "         1.084294  , 1.0820297 , 1.0805086 , 1.079642  , 1.0793159 ,\n",
       "         1.0794102 , 1.0798132 , 1.0804274 , 1.0811727 , 1.0819857 ,\n",
       "         1.0828189 , 1.0836376 , 1.0844184 , 1.0851465 , 1.0858142 ,\n",
       "         1.0864176 , 1.0869577 , 1.0874366 , 1.0878586 , 1.0882286 ,\n",
       "         1.0885521 , 1.0888349 , 1.0890816 , 1.0892977 , 1.0894879 ,\n",
       "         1.0896565 , 1.0898076 , 1.0899445 , 1.0900701 , 1.0901884 ,\n",
       "         1.0903009 , 1.0904104 , 1.0905186 , 1.0906278 , 1.0907389 ,\n",
       "         1.0908536 , 1.0909722 , 1.0910956 , 1.0912241 , 1.0913574 ,\n",
       "         1.0914942 , 1.0916332 , 1.0917724 , 1.0919086 , 1.0920379 ,\n",
       "         1.092155  , 1.0922532 , 1.0923246 , 1.0923597 , 1.0923465 ,\n",
       "         1.0922716 , 1.0921184 , 1.0918676 , 1.0914975 , 1.0909826 ,\n",
       "         1.0902933 , 1.0893961 , 1.0882528 , 1.0868189 , 1.0850445 ,\n",
       "         1.0828725 , 1.0802375 , 1.0770656 , 1.0732721 , 1.0687609 ,\n",
       "         1.0634234 , 1.0571378 , 1.0497683 , 1.0410917 , 1.0308746 ,\n",
       "         1.0188823 , 1.0048543 , 0.98853415, 0.9696209 , 0.94880396,\n",
       "         0.92835695, 0.9093943 , 0.89564866, 0.88758296, 0.8853651 ,\n",
       "         0.8888854 , 0.89763933, 0.9108117 , 0.9272923 , 0.9449089 ],\n",
       "        dtype=float32),\n",
       "  array([2, 0, 0, 2, 2, 0, 2, 0, 2, 2, 2, 0, 2, 1, 0, 1, 1, 0, 0, 2, 0, 1,\n",
       "         0, 1, 1, 0, 1, 0, 1, 1, 0, 1, 1, 1, 0, 2, 1, 1, 0, 2, 1, 1, 1, 1,\n",
       "         0, 2, 0, 2, 0, 1, 2, 1, 1, 2, 0, 1, 0, 2, 1, 0, 1, 0, 2, 1, 2, 1,\n",
       "         0, 1, 1, 0, 0, 0, 1, 2, 2, 2, 1, 1, 0, 2, 1, 1, 1, 0, 0, 2, 0, 0,\n",
       "         2, 2, 2, 0, 1, 1, 0, 2, 0, 1, 0, 0])),\n",
       " (array([0.6519857 , 0.87755996, 0.8823002 , 0.8616439 , 0.87754494,\n",
       "         0.9082274 , 0.94119495, 0.97031677, 0.99330276, 1.0102775 ,\n",
       "         1.0221494 , 1.0303    , 1.0359725 , 1.0401407 , 1.0434705 ,\n",
       "         1.0463805 , 1.0491103 , 1.0517776 , 1.0544238 , 1.0570459 ,\n",
       "         1.05962   , 1.0621144 , 1.0644982 , 1.0667462 , 1.0688398 ,\n",
       "         1.0707685 , 1.0725279 , 1.0741187 , 1.0755469 , 1.0768204 ,\n",
       "         1.0779496 , 1.0789466 , 1.0798227 , 1.08059   , 1.0812598 ,\n",
       "         1.0818431 , 1.0823494 , 1.0827883 , 1.0831672 , 1.0834936 ,\n",
       "         1.0837735 , 1.0840125 , 1.0842153 , 1.0843856 , 1.0845271 ,\n",
       "         1.0846423 , 1.0847337 , 1.084803  , 1.0848521 , 1.0848814 ,\n",
       "         1.084893  , 1.0848871 , 1.0848643 , 1.0848256 , 1.084771  ,\n",
       "         1.0847019 , 1.0846189 , 1.0845232 , 1.0844165 , 1.0843009 ,\n",
       "         1.0841789 , 1.0840542 , 1.0839316 , 1.0838163 , 1.0837156 ,\n",
       "         1.0836385 , 1.0835954 , 1.0835992 , 1.0836649 , 1.0838107 ,\n",
       "         1.0840576 , 1.0844294 , 1.0849535 , 1.085661  , 1.0865858 ,\n",
       "         1.0877668 , 1.089247  , 1.0910727 , 1.0932902 , 1.0959474 ,\n",
       "         1.0990936 , 1.1027745 , 1.107031  , 1.1118966 , 1.1173912 ,\n",
       "         1.1235173 , 1.1302259 , 1.1373708 , 1.1448083 , 1.1523297 ,\n",
       "         1.1597239 , 1.1666862 , 1.1727991 , 1.1776567 , 1.1808108 ,\n",
       "         1.1817594 , 1.1799958 , 1.1747392 , 1.1659862 , 1.1575238 ],\n",
       "        dtype=float32),\n",
       "  array([0, 1, 0, 1, 1, 2, 0, 1, 2, 2, 1, 1, 1, 2, 0, 2, 1, 0, 1, 1, 1, 2,\n",
       "         1, 1, 1, 2, 2, 2, 0, 0, 1, 2, 2, 0, 1, 1, 2, 2, 1, 0, 2, 0, 1, 0,\n",
       "         2, 0, 1, 2, 2, 0, 0, 0, 1, 1, 2, 1, 0, 0, 1, 2, 1, 2, 2, 0, 0, 0,\n",
       "         0, 2, 0, 1, 1, 2, 0, 0, 0, 1, 0, 0, 1, 1, 2, 0, 0, 1, 2, 2, 0, 0,\n",
       "         1, 1, 1, 2, 0, 0, 0, 2, 2, 2, 2, 1])),\n",
       " (array([0.6501634 , 0.8697265 , 0.8737106 , 0.85719633, 0.8746929 ,\n",
       "         0.9058046 , 0.9388337 , 0.96803695, 0.9918446 , 1.0097554 ,\n",
       "         1.0226077 , 1.0317875 , 1.0383749 , 1.0433183 , 1.0472823 ,\n",
       "         1.0506976 , 1.0538199 , 1.0567862 , 1.0596557 , 1.0624418 ,\n",
       "         1.0651345 , 1.0677129 , 1.0701559 , 1.0724447 , 1.0745667 ,\n",
       "         1.0765148 , 1.0782877 , 1.0798886 , 1.0813241 , 1.0826038 ,\n",
       "         1.0837384 , 1.08474   , 1.0856211 , 1.0863929 , 1.0870675 ,\n",
       "         1.0876554 , 1.0881667 , 1.0886108 , 1.0889945 , 1.0893261 ,\n",
       "         1.0896112 , 1.0898558 , 1.0900642 , 1.0902404 , 1.0903875 ,\n",
       "         1.0905088 , 1.0906068 , 1.0906831 , 1.0907394 , 1.0907768 ,\n",
       "         1.0907966 , 1.0907992 , 1.090786  , 1.0907568 , 1.0907127 ,\n",
       "         1.090654  , 1.0905821 , 1.0904976 , 1.090402  , 1.0902971 ,\n",
       "         1.0901854 , 1.0900701 , 1.0899554 , 1.0898459 , 1.0897485 ,\n",
       "         1.0896715 , 1.089624  , 1.0896182 , 1.0896678 , 1.0897897 ,\n",
       "         1.0900031 , 1.0903305 , 1.0907983 , 1.0914347 , 1.092273  ,\n",
       "         1.0933495 , 1.0947036 , 1.0963782 , 1.0984175 , 1.1008679 ,\n",
       "         1.1037748 , 1.1071826 , 1.1111306 , 1.1156498 , 1.1207606 ,\n",
       "         1.1264225 , 1.1325549 , 1.1390567 , 1.1457587 , 1.152449  ,\n",
       "         1.1589475 , 1.1649566 , 1.170108  , 1.1739625 , 1.1761018 ,\n",
       "         1.1760486 , 1.1732347 , 1.1669033 , 1.1572559 , 1.1492792 ],\n",
       "        dtype=float32),\n",
       "  array([0, 1, 0, 1, 2, 0, 1, 1, 2, 2, 0, 2, 2, 0, 1, 2, 1, 0, 0, 2, 0, 0,\n",
       "         2, 0, 0, 0, 0, 1, 1, 0, 1, 2, 2, 1, 1, 1, 1, 2, 2, 1, 0, 0, 1, 2,\n",
       "         2, 0, 0, 1, 1, 2, 2, 0, 1, 0, 2, 1, 1, 1, 0, 1, 0, 2, 0, 2, 0, 1,\n",
       "         1, 2, 1, 1, 0, 0, 0, 1, 2, 2, 2, 1, 0, 2, 1, 2, 1, 2, 1, 1, 0, 0,\n",
       "         0, 2, 2, 1, 0, 2, 1, 2, 0, 2, 2, 1])),\n",
       " (array([0.8433007, 1.1080711, 1.1179845, 1.0425497, 1.0081677, 1.0112329,\n",
       "         1.0274069, 1.044188 , 1.0557952, 1.0621827, 1.0643362, 1.0638005,\n",
       "         1.0619015, 1.0595767, 1.057413 , 1.055723 , 1.0546294, 1.054134 ,\n",
       "         1.0541695, 1.054637 , 1.0554295, 1.0564454, 1.0575966, 1.0588113,\n",
       "         1.060034 , 1.0612236, 1.0623522, 1.0634019, 1.0643632, 1.0652325,\n",
       "         1.0660108, 1.0667013, 1.0673102, 1.067844 , 1.0683099, 1.068715 ,\n",
       "         1.0690665, 1.0693705, 1.0696334, 1.0698603, 1.0700562, 1.0702252,\n",
       "         1.0703709, 1.0704966, 1.0706043, 1.0706972, 1.0707762, 1.0708433,\n",
       "         1.0708992, 1.0709454, 1.0709816, 1.0710086, 1.0710264, 1.0710348,\n",
       "         1.0710336, 1.0710222, 1.0710001, 1.0709664, 1.0709203, 1.0708611,\n",
       "         1.0707877, 1.0706995, 1.070596 , 1.0704764, 1.0703403, 1.0701883,\n",
       "         1.0700207, 1.0698386, 1.0696441, 1.0694395, 1.0692278, 1.0690132,\n",
       "         1.0688007, 1.0685962, 1.0684052, 1.0682338, 1.0680884, 1.0679728,\n",
       "         1.0678898, 1.0678381, 1.0678104, 1.067792 , 1.0677577, 1.0676672,\n",
       "         1.0674636, 1.0670675, 1.0663472, 1.0651343, 1.0631651, 1.0601653,\n",
       "         1.0558137, 1.04973  , 1.0419179, 1.0343568, 1.0273379, 1.0227481,\n",
       "         1.0222751, 1.0252744, 1.0306633, 1.037198 ], dtype=float32),\n",
       "  array([1, 0, 2, 2, 1, 0, 1, 2, 1, 0, 0, 0, 2, 2, 0, 1, 1, 2, 0, 1, 1, 2,\n",
       "         1, 1, 2, 0, 1, 2, 1, 2, 1, 2, 0, 0, 1, 0, 2, 0, 2, 1, 2, 0, 2, 2,\n",
       "         2, 1, 1, 0, 2, 1, 2, 1, 2, 1, 0, 2, 1, 1, 2, 2, 2, 0, 1, 2, 2, 1,\n",
       "         2, 2, 0, 0, 0, 2, 0, 0, 1, 2, 1, 2, 2, 1, 1, 0, 0, 2, 2, 0, 2, 2,\n",
       "         2, 1, 0, 1, 2, 1, 2, 0, 1, 0, 0, 2])),\n",
       " (array([1.0861984 , 1.4372636 , 1.4915519 , 1.4372227 , 1.3697265 ,\n",
       "         1.3142122 , 1.2834489 , 1.2677448 , 1.2500433 , 1.2273004 ,\n",
       "         1.2026507 , 1.1780244 , 1.1550746 , 1.1348184 , 1.117705  ,\n",
       "         1.103774  , 1.0928061 , 1.0844438 , 1.0782751 , 1.0738894 ,\n",
       "         1.0709089 , 1.0690048 , 1.0679016 , 1.0673766 , 1.0672548 ,\n",
       "         1.0674016 , 1.0677165 , 1.0681266 , 1.06858   , 1.0690418 ,\n",
       "         1.0694889 , 1.0699071 , 1.070289  , 1.0706316 , 1.0709344 ,\n",
       "         1.0711993 , 1.0714289 , 1.0716264 , 1.0717957 , 1.0719398 ,\n",
       "         1.0720626 , 1.0721663 , 1.0722542 , 1.0723286 , 1.0723915 ,\n",
       "         1.0724448 , 1.0724902 , 1.072529  , 1.0725622 , 1.0725911 ,\n",
       "         1.0726167 , 1.0726396 , 1.0726606 , 1.0726805 , 1.0726999 ,\n",
       "         1.0727196 , 1.0727401 , 1.0727621 , 1.0727868 , 1.072814  ,\n",
       "         1.0728453 , 1.0728815 , 1.0729231 , 1.0729711 , 1.0730265 ,\n",
       "         1.0730897 , 1.073162  , 1.0732429 , 1.0733327 , 1.0734308 ,\n",
       "         1.0735356 , 1.0736439 , 1.0737517 , 1.0738521 , 1.0739347 ,\n",
       "         1.0739863 , 1.0739878 , 1.0739136 , 1.0737299 , 1.0733922 ,\n",
       "         1.0728433 , 1.0720106 , 1.0708021 , 1.0691034 , 1.0667741 ,\n",
       "         1.0636454 , 1.059515  , 1.0541489 , 1.0472813 , 1.0386213 ,\n",
       "         1.0278397 , 1.0144985 , 0.99826795, 0.97895074, 0.9597996 ,\n",
       "         0.94301707, 0.9327721 , 0.92867035, 0.9298942 , 0.934771  ],\n",
       "        dtype=float32),\n",
       "  array([1, 2, 1, 1, 2, 2, 2, 0, 1, 0, 2, 0, 2, 2, 2, 0, 2, 1, 2, 2, 0, 1,\n",
       "         1, 2, 1, 1, 0, 0, 0, 0, 1, 0, 2, 2, 2, 1, 1, 2, 2, 1, 0, 2, 1, 0,\n",
       "         1, 1, 0, 1, 2, 1, 1, 1, 0, 0, 0, 2, 0, 1, 1, 0, 1, 2, 2, 1, 2, 2,\n",
       "         0, 1, 1, 1, 1, 0, 1, 0, 0, 0, 2, 1, 2, 2, 1, 0, 2, 2, 1, 0, 2, 2,\n",
       "         0, 1, 0, 2, 2, 1, 2, 1, 0, 0, 0, 1])),\n",
       " (array([0.95094186, 1.2492512 , 1.2108454 , 1.0862116 , 1.044149  ,\n",
       "         1.0528797 , 1.0760307 , 1.0960228 , 1.106944  , 1.1100279 ,\n",
       "         1.1079842 , 1.1033815 , 1.0980548 , 1.0931289 , 1.0891806 ,\n",
       "         1.0864142 , 1.084804  , 1.0842042 , 1.0844165 , 1.0852362 ,\n",
       "         1.0864757 , 1.0879759 , 1.0896093 , 1.0912794 , 1.0929166 ,\n",
       "         1.0944735 , 1.09592   , 1.0972403 , 1.098428  , 1.0994836 ,\n",
       "         1.1004125 , 1.1012229 , 1.1019235 , 1.1025252 , 1.1030378 ,\n",
       "         1.1034707 , 1.1038327 , 1.1041318 , 1.1043745 , 1.1045669 ,\n",
       "         1.104714  , 1.10482   , 1.1048884 , 1.1049218 , 1.1049225 ,\n",
       "         1.1048925 , 1.1048326 , 1.1047443 , 1.1046282 , 1.1044856 ,\n",
       "         1.1043168 , 1.1041232 , 1.1039056 , 1.1036658 , 1.1034058 ,\n",
       "         1.1031283 , 1.102837  , 1.1025364 , 1.1022319 , 1.1019311 ,\n",
       "         1.101642  , 1.1013757 , 1.1011447 , 1.1009636 , 1.1008502 ,\n",
       "         1.100825  , 1.1009116 , 1.1011372 , 1.1015326 , 1.1021332 ,\n",
       "         1.1029778 , 1.104111  , 1.1055716 , 1.1073962 , 1.1096388 ,\n",
       "         1.1123582 , 1.1156162 , 1.1194792 , 1.124016  , 1.1292986 ,\n",
       "         1.1354007 , 1.1423994 , 1.1503745 , 1.159399  , 1.1694988 ,\n",
       "         1.1807264 , 1.1928315 , 1.2053734 , 1.2180957 , 1.2309315 ,\n",
       "         1.2435036 , 1.2553313 , 1.2657648 , 1.274129  , 1.2795868 ,\n",
       "         1.2813369 , 1.2785515 , 1.2701772 , 1.2549193 , 1.2315995 ],\n",
       "        dtype=float32),\n",
       "  array([2, 0, 2, 1, 0, 2, 2, 1, 1, 1, 2, 0, 0, 2, 1, 1, 2, 2, 2, 1, 2, 1,\n",
       "         2, 2, 2, 2, 1, 1, 1, 2, 1, 0, 1, 0, 2, 2, 1, 0, 0, 2, 2, 0, 2, 0,\n",
       "         1, 2, 1, 0, 0, 2, 2, 1, 0, 0, 2, 0, 1, 2, 2, 0, 0, 1, 2, 0, 0, 1,\n",
       "         2, 0, 1, 0, 0, 0, 2, 2, 1, 2, 1, 1, 2, 1, 1, 2, 2, 2, 0, 2, 2, 0,\n",
       "         2, 2, 1, 2, 2, 1, 2, 1, 2, 2, 2, 2])),\n",
       " (array([1.0487492 , 1.3995334 , 1.4797571 , 1.4511119 , 1.3996913 ,\n",
       "         1.3525623 , 1.3130668 , 1.2909452 , 1.2686878 , 1.2423431 ,\n",
       "         1.2137636 , 1.1853589 , 1.1587825 , 1.1351215 , 1.114885  ,\n",
       "         1.0981497 , 1.0847126 , 1.0742133 , 1.0662243 , 1.0603092 ,\n",
       "         1.0560594 , 1.0531136 , 1.0511634 , 1.0499556 , 1.0492871 ,\n",
       "         1.0489986 , 1.0489683 , 1.0491059 , 1.0493444 , 1.0496368 ,\n",
       "         1.0499504 , 1.0502635 , 1.0505627 , 1.05084   , 1.0510918 ,\n",
       "         1.051317  , 1.0515164 , 1.0516919 , 1.051846  , 1.0519817 ,\n",
       "         1.0521016 , 1.0522087 , 1.0523057 , 1.052395  , 1.0524795 ,\n",
       "         1.0525607 , 1.0526409 , 1.052722  , 1.0528054 , 1.0528926 ,\n",
       "         1.052985  , 1.0530835 , 1.0531892 , 1.053302  , 1.0534229 ,\n",
       "         1.0535512 , 1.0536864 , 1.0538274 , 1.053972  , 1.0541176 ,\n",
       "         1.0542601 , 1.0543947 , 1.0545146 , 1.054612  , 1.054676  ,\n",
       "         1.0546949 , 1.0546556 , 1.0545413 , 1.0543325 , 1.0540067 ,\n",
       "         1.0535365 , 1.0528916 , 1.0520358 , 1.0509268 , 1.0495164 ,\n",
       "         1.047748  , 1.0455564 , 1.0428654 , 1.0395867 , 1.0356171 ,\n",
       "         1.0308379 , 1.0251114 , 1.0182798 , 1.0101637 , 1.0005646 ,\n",
       "         0.98926735, 0.9760496 , 0.9606846 , 0.9427864 , 0.9221856 ,\n",
       "         0.9008553 , 0.8801884 , 0.8610415 , 0.8472547 , 0.8397674 ,\n",
       "         0.83851284, 0.8431276 , 0.8529189 , 0.86701363, 0.88347894],\n",
       "        dtype=float32),\n",
       "  array([1, 1, 1, 2, 1, 1, 2, 2, 2, 2, 1, 2, 1, 2, 1, 0, 1, 0, 2, 0, 1, 0,\n",
       "         2, 2, 2, 1, 2, 1, 1, 0, 0, 0, 2, 0, 2, 0, 2, 2, 2, 1, 1, 1, 1, 2,\n",
       "         0, 0, 1, 1, 2, 1, 1, 0, 1, 1, 2, 1, 1, 0, 2, 2, 1, 1, 1, 2, 0, 0,\n",
       "         2, 2, 0, 1, 0, 1, 2, 1, 2, 2, 1, 2, 2, 1, 1, 2, 0, 0, 1, 2, 2, 1,\n",
       "         0, 2, 2, 2, 0, 0, 1, 0, 0, 0, 0, 1])),\n",
       " (array([0.81862026, 1.071096  , 1.0495952 , 0.9609383 , 0.9435715 ,\n",
       "         0.95806235, 0.9817587 , 1.0038321 , 1.0220609 , 1.0351393 ,\n",
       "         1.0433018 , 1.0479146 , 1.0503703 , 1.0517014 , 1.0525924 ,\n",
       "         1.0534488 , 1.0544746 , 1.0557419 , 1.0572436 , 1.0589314 ,\n",
       "         1.0607405 , 1.0626048 , 1.0644658 , 1.0662755 , 1.0679985 ,\n",
       "         1.0696104 , 1.0710961 , 1.0724488 , 1.0736678 , 1.0747572 ,\n",
       "         1.0757228 , 1.0765737 , 1.077319  , 1.0779692 , 1.0785334 ,\n",
       "         1.0790217 , 1.079442  , 1.0798028 , 1.0801105 , 1.0803719 ,\n",
       "         1.0805923 , 1.0807761 , 1.0809275 , 1.0810499 , 1.081146  ,\n",
       "         1.081218  , 1.0812676 , 1.0812964 , 1.0813055 , 1.0812956 ,\n",
       "         1.0812677 , 1.0812222 , 1.0811594 , 1.0810803 , 1.0809855 ,\n",
       "         1.080876  , 1.080753  , 1.0806184 , 1.0804743 , 1.0803246 ,\n",
       "         1.0801731 , 1.0800257 , 1.0798889 , 1.0797721 , 1.0796863 ,\n",
       "         1.0796443 , 1.079663  , 1.0797615 , 1.0799623 , 1.0802723 ,\n",
       "         1.0807148 , 1.0813185 , 1.082112  , 1.0831314 , 1.0844165 ,\n",
       "         1.086011  , 1.0879625 , 1.0903215 , 1.0931413 , 1.0964689 ,\n",
       "         1.1003525 , 1.1048361 , 1.1099554 , 1.1157342 , 1.1221777 ,\n",
       "         1.129268  , 1.1368397 , 1.1447498 , 1.1527944 , 1.1606926 ,\n",
       "         1.1681502 , 1.1748849 , 1.1804923 , 1.1843574 , 1.1858073 ,\n",
       "         1.1841279 , 1.1786412 , 1.1684265 , 1.1525534 , 1.1364877 ],\n",
       "        dtype=float32),\n",
       "  array([0, 2, 2, 2, 1, 0, 0, 0, 2, 1, 1, 1, 0, 0, 1, 0, 0, 0, 2, 0, 0, 2,\n",
       "         2, 2, 2, 2, 0, 0, 0, 1, 1, 1, 2, 0, 1, 2, 1, 2, 1, 0, 1, 0, 2, 1,\n",
       "         2, 1, 2, 0, 0, 1, 1, 2, 2, 0, 1, 1, 2, 2, 1, 2, 2, 2, 1, 0, 0, 0,\n",
       "         1, 1, 0, 1, 2, 1, 2, 0, 0, 0, 1, 2, 0, 2, 0, 1, 2, 1, 2, 1, 2, 1,\n",
       "         1, 1, 1, 1, 1, 2, 2, 0, 1, 2, 2, 1])),\n",
       " (array([0.8728729 , 1.1506165 , 1.1464142 , 1.0549036 , 1.0000483 ,\n",
       "         0.99475473, 1.0073802 , 1.0221932 , 1.0328865 , 1.0384936 ,\n",
       "         1.0395842 , 1.0378683 , 1.034805  , 1.031423  , 1.0283551 ,\n",
       "         1.0259281 , 1.0242571 , 1.023324  , 1.023038  , 1.023276  ,\n",
       "         1.0239092 , 1.0248182 , 1.0258995 , 1.027071  , 1.0282675 ,\n",
       "         1.0294428 , 1.0305637 , 1.0316097 , 1.0325692 , 1.0334374 ,\n",
       "         1.0342143 , 1.034903  , 1.035509  , 1.036039  , 1.0364999 ,\n",
       "         1.0368991 , 1.037243  , 1.0375386 , 1.0377913 , 1.0380067 ,\n",
       "         1.0381892 , 1.038343  , 1.0384711 , 1.0385764 , 1.0386616 ,\n",
       "         1.0387281 , 1.0387776 , 1.0388111 , 1.0388292 , 1.0388328 ,\n",
       "         1.0388216 , 1.0387961 , 1.038756  , 1.0387013 , 1.0386314 ,\n",
       "         1.0385464 , 1.038446  , 1.0383304 , 1.0381997 , 1.0380548 ,\n",
       "         1.0378965 , 1.0377266 , 1.0375478 , 1.0373628 , 1.0371767 ,\n",
       "         1.0369948 , 1.0368247 , 1.0366749 , 1.0365564 , 1.0364821 ,\n",
       "         1.0364678 , 1.0365307 , 1.036692  , 1.0369744 , 1.0374044 ,\n",
       "         1.0380099 , 1.0388209 , 1.0398697 , 1.0411876 , 1.0428053 ,\n",
       "         1.0447505 , 1.047044  , 1.0496978 , 1.0527083 , 1.0560527 ,\n",
       "         1.0596292 , 1.0633134 , 1.0669351 , 1.0703093 , 1.0732168 ,\n",
       "         1.075334  , 1.0762683 , 1.0755192 , 1.0725273 , 1.067081  ,\n",
       "         1.0611376 , 1.0549129 , 1.0515679 , 1.0511878 , 1.0527742 ],\n",
       "        dtype=float32),\n",
       "  array([1, 2, 1, 2, 0, 0, 0, 0, 2, 1, 0, 2, 1, 2, 2, 1, 2, 0, 1, 1, 1, 2,\n",
       "         1, 0, 2, 2, 2, 2, 1, 2, 2, 0, 1, 1, 1, 2, 1, 1, 1, 1, 1, 0, 2, 1,\n",
       "         2, 2, 0, 2, 0, 2, 2, 0, 2, 2, 2, 2, 2, 1, 0, 0, 1, 2, 2, 0, 1, 2,\n",
       "         0, 0, 0, 2, 2, 2, 2, 1, 2, 0, 0, 2, 1, 2, 1, 2, 0, 0, 1, 0, 1, 0,\n",
       "         1, 0, 2, 0, 2, 2, 0, 0, 1, 1, 1, 2]))]"
      ]
     },
     "execution_count": 39,
     "metadata": {},
     "output_type": "execute_result"
    }
   ],
   "source": [
    "# demonstrate recreation\n",
    "yhat = model.predict(scenes[:10], verbose=2)\n",
    "\n",
    "list(zip(yhat.reshape(10, len_sequences), scenes[:10].reshape(10, len_sequences)))"
   ]
  },
  {
   "cell_type": "code",
   "execution_count": null,
   "metadata": {},
   "outputs": [],
   "source": []
  }
 ],
 "metadata": {
  "kernelspec": {
   "display_name": "Python 3",
   "language": "python",
   "name": "python3"
  },
  "language_info": {
   "codemirror_mode": {
    "name": "ipython",
    "version": 3
   },
   "file_extension": ".py",
   "mimetype": "text/x-python",
   "name": "python",
   "nbconvert_exporter": "python",
   "pygments_lexer": "ipython3",
   "version": "3.8.2"
  }
 },
 "nbformat": 4,
 "nbformat_minor": 4
}
