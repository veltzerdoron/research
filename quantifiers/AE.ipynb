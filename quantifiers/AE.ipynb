{
 "cells": [
  {
   "cell_type": "markdown",
   "metadata": {},
   "source": [
    "### AE approach\n",
    "---\n",
    "The AE approach tries to let an AE look at scenes where a given quantifier q was used by a teacher (language speaker), this is repeated many times till whatever structure typical to scenes True under the q quantifier are encoded in the AE structure and each representation of this structure is given in the hidden vector. When learning is done and given a scene we use the AE as an anomaly classifier to decide whether the scene is True under the q quantifier. The idea is that after seeing many q True scenes a non q True scene will have relatively high reconstruction errors.\n",
    "\n",
    "Many types of AEs can be used and are implemented"
   ]
  },
  {
   "cell_type": "markdown",
   "metadata": {},
   "source": [
    "## Imports"
   ]
  },
  {
   "cell_type": "markdown",
   "metadata": {},
   "source": [
    "### my class imports"
   ]
  },
  {
   "cell_type": "code",
   "execution_count": 1,
   "metadata": {},
   "outputs": [
    {
     "name": "stderr",
     "output_type": "stream",
     "text": [
      "Using TensorFlow backend.\n"
     ]
    }
   ],
   "source": [
    "from quants.quantifiers import *\n",
    "from quants.models import AE"
   ]
  },
  {
   "cell_type": "markdown",
   "metadata": {},
   "source": [
    "### Global Imports"
   ]
  },
  {
   "cell_type": "code",
   "execution_count": 2,
   "metadata": {},
   "outputs": [],
   "source": [
    "import numpy as np\n",
    "import pandas as pd"
   ]
  },
  {
   "cell_type": "markdown",
   "metadata": {},
   "source": [
    "### Neural Network imports"
   ]
  },
  {
   "cell_type": "code",
   "execution_count": 3,
   "metadata": {},
   "outputs": [
    {
     "name": "stdout",
     "output_type": "stream",
     "text": [
      "TensorFlow version:  2.2.0\n"
     ]
    }
   ],
   "source": [
    "import tensorflow as tf\n",
    "\n",
    "print(\"TensorFlow version: \", tf.__version__)\n",
    "\n",
    "import keras\n",
    "\n",
    "from keras.models import Sequential, Model\n",
    "from keras.layers import SimpleRNN, LSTM, Dense, Conv1D, MaxPooling1D, UpSampling1D, Input, Bidirectional, RepeatVector, TimeDistributed, Dropout, LeakyReLU, Flatten\n",
    "from keras.utils import plot_model, np_utils"
   ]
  },
  {
   "cell_type": "code",
   "execution_count": 4,
   "metadata": {
    "scrolled": true
   },
   "outputs": [
    {
     "name": "stdout",
     "output_type": "stream",
     "text": [
      "Keras backend:  tensorflow\n"
     ]
    },
    {
     "data": {
      "text/plain": [
       "[LogicalDevice(name='/device:CPU:0', device_type='CPU'),\n",
       " LogicalDevice(name='/device:XLA_CPU:0', device_type='XLA_CPU'),\n",
       " LogicalDevice(name='/device:XLA_GPU:0', device_type='XLA_GPU'),\n",
       " LogicalDevice(name='/device:GPU:0', device_type='GPU')]"
      ]
     },
     "execution_count": 4,
     "metadata": {},
     "output_type": "execute_result"
    }
   ],
   "source": [
    "gpu_options = tf.compat.v1.GPUOptions(per_process_gpu_memory_fraction=0.3)\n",
    "sess = tf.compat.v1.Session(config=tf.compat.v1.ConfigProto(gpu_options=gpu_options))\n",
    "print(\"Keras backend: \", tf.python.keras.backend.backend())\n",
    "tf.python.keras.backend.set_session(sess)\n",
    "tf.config.list_logical_devices()"
   ]
  },
  {
   "cell_type": "markdown",
   "metadata": {},
   "source": [
    "### AE Models"
   ]
  },
  {
   "cell_type": "code",
   "execution_count": null,
   "metadata": {},
   "outputs": [],
   "source": [
    "class CNNAE(AE):\n",
    "    \"\"\" Convolutional classifier model builder method \"\"\"\n",
    "\n",
    "    def build(self):\n",
    "        model = Sequential()\n",
    "        # encoding\n",
    "        model.add(Conv1D(60, 32, strides=1, activation='relu', padding='causal', input_shape=(Quantifier.scene_len, 1)))\n",
    "        model.add(Conv1D(80, 10, strides=1, activation='relu', padding='causal'))\n",
    "        model.add(Dropout(0.25))\n",
    "        model.add(Conv1D(100, 5, strides=1, activation='relu', padding='causal'))\n",
    "        model.add(MaxPooling1D(1))\n",
    "        # decoding\n",
    "        model.add(Dropout(0.25))\n",
    "        model.add(Dense(300, activation='relu'))\n",
    "        model.add(Dense(1, activation='relu'))\n",
    "        model.compile(optimizer='adam', loss='mse')\n",
    "        return model\n",
    "\n",
    "    @staticmethod\n",
    "    def prepare(scenes):\n",
    "        return np_utils.to_categorical(scenes)"
   ]
  },
  {
   "cell_type": "code",
   "execution_count": 25,
   "metadata": {},
   "outputs": [
    {
     "data": {
      "text/plain": [
       "(10, 10)"
      ]
     },
     "execution_count": 25,
     "metadata": {},
     "output_type": "execute_result"
    }
   ],
   "source": [
    "\n",
    "np.zeros((10, 10)).shape"
   ]
  },
  {
   "cell_type": "code",
   "execution_count": 26,
   "metadata": {},
   "outputs": [],
   "source": []
  },
  {
   "cell_type": "code",
   "execution_count": 39,
   "metadata": {},
   "outputs": [],
   "source": [
    "model = Sequential()\n",
    "model.add(Dense(10, use_bias=False, trainable=False, weights=(np.eye(10),), activation='linear', input_dim=10))\n",
    "# encoding\n"
   ]
  },
  {
   "cell_type": "code",
   "execution_count": 40,
   "metadata": {},
   "outputs": [],
   "source": [
    "class DenseAE(AE):\n",
    "    \"\"\" dense classifier model builder method \"\"\"\n",
    "\n",
    "    def build(self):\n",
    "        model = Sequential()\n",
    "        # encoding\n",
    "        model.add(Dense(Quantifier.scene_len, use_bias=False, trainable=False,\n",
    "                        weights=(np.eye(Quantifier.scene_len),), activation='linear',\n",
    "                        input_dim=Quantifier.scene_len))\n",
    "        # model.add(Dense(75, activation='linear', input_dim=Quantifier.scene_len))\n",
    "        # model.add(Flatten())\n",
    "        # model.add(Dense(50, activation='sigmoid'))\n",
    "        # model.add(Dense(25, activation='sigmoid'))\n",
    "        # # decoding\n",
    "        # model.add(Dense(50, activation='sigmoid'))\n",
    "        # model.add(Dense(75, activation='sigmoid'))\n",
    "        # model.add(Dense(Quantifier.scene_len, activation='linear'))\n",
    "        model.compile(optimizer='adam', loss='mse')\n",
    "        return model"
   ]
  },
  {
   "cell_type": "code",
   "execution_count": 7,
   "metadata": {},
   "outputs": [],
   "source": [
    "# class RNNAE(AE):\n",
    "#     \"\"\" RNN Auto Encoder model builder method \"\"\"\n",
    "#     def build(self):\n",
    "#         model = Sequential()\n",
    "#         model.add(Bidirectional(SimpleRNN(15, activation='sigmoid', input_shape=(Quantifier.scenes_len, 1))))\n",
    "#         model.add(Dropout(0.5))\n",
    "# #         model.add(Bidirectional(SimpleRNN(15, activation='sigmoid', return_sequences=True)))\n",
    "# #         model.add(Dropout(0.5))\n",
    "#         model.add(RepeatVector(Quantifier.scene_len))\n",
    "#         model.add(SimpleRNN(15, activation='sigmoid', return_sequences=True))\n",
    "#         model.add(Dropout(0.5))\n",
    "# #         model.add(Bidirectional(SimpleRNN(25, activation='sigmoid', return_sequences=True)))\n",
    "# #         model.add(Dropout(0.5))\n",
    "#         model.add(TimeDistributed(Dense(1)))\n",
    "#         model.compile(optimizer='adam', loss='mse')\n",
    "#         return model"
   ]
  },
  {
   "cell_type": "code",
   "execution_count": 8,
   "metadata": {},
   "outputs": [],
   "source": [
    "# class LSTMAE(AE):\n",
    "#     \"\"\" LSTM Auto Encoder model builder method \"\"\"\n",
    "#     def build(self):\n",
    "#         model = Sequential()\n",
    "#         model.add(LSTM(15, activation='sigmoid', input_shape=(Quantifier.scene_len, 1)))\n",
    "#         model.add(Dropout(0.5))\n",
    "#         model.add(RepeatVector(Quantifier.scene_len))\n",
    "#         model.add(LSTM(15, activation='sigmoid', return_sequences=True))\n",
    "#         model.add(Dropout(0.5))\n",
    "#         model.add(TimeDistributed(Dense(1)))\n",
    "#         model.compile(optimizer='adam', loss='mse')\n",
    "#         return model   "
   ]
  },
  {
   "cell_type": "code",
   "execution_count": 9,
   "metadata": {},
   "outputs": [],
   "source": [
    "# class BLSTMAE(AE):\n",
    "#     \"\"\" BLSTM Auto Encoder model builder method \"\"\"\n",
    "#     def build(self):\n",
    "#         model = Sequential()\n",
    "#         model.add(Bidirectional(LSTM(15, activation='sigmoid', input_shape=(Quantifier.scene_len, 1))))\n",
    "#         model.add(Dropout(0.5, name=\"dropout_1\"))\n",
    "#         model.add(RepeatVector(Quantifier.scene_len))\n",
    "#         model.add(Bidirectional(LSTM(15, activation='sigmoid', return_sequences=True)))\n",
    "#         model.add(Dropout(0.5, name=\"dropout_2\"))\n",
    "#         model.add(TimeDistributed(Dense(1)))\n",
    "#         model.compile(optimizer='adam', loss='mse')\n",
    "#         return model"
   ]
  },
  {
   "cell_type": "markdown",
   "metadata": {},
   "source": [
    "### Learn"
   ]
  },
  {
   "cell_type": "code",
   "execution_count": 12,
   "metadata": {},
   "outputs": [
    {
     "name": "stdout",
     "output_type": "stream",
     "text": [
      "DenseAE model Auto Encoding anomaly detection of The()\n",
      "Epoch 1/3\n",
      "1000/1000 [==============================] - 0s 490us/step - loss: 0.9344\n",
      "Epoch 2/3\n",
      "1000/1000 [==============================] - 0s 346us/step - loss: 0.2311\n",
      "Epoch 3/3\n",
      "1000/1000 [==============================] - 0s 323us/step - loss: 0.2310\n",
      "TRAIN\n"
     ]
    },
    {
     "ename": "TypeError",
     "evalue": "test() missing 1 required positional argument: 'labels'",
     "output_type": "error",
     "traceback": [
      "\u001b[0;31m---------------------------------------------------------------------------\u001b[0m",
      "\u001b[0;31mTypeError\u001b[0m                                 Traceback (most recent call last)",
      "\u001b[0;32m<ipython-input-12-bcb55a439f27>\u001b[0m in \u001b[0;36m<module>\u001b[0;34m\u001b[0m\n\u001b[1;32m      6\u001b[0m \u001b[0mclassifier\u001b[0m \u001b[0;34m=\u001b[0m \u001b[0mDenseAE\u001b[0m\u001b[0;34m(\u001b[0m\u001b[0mnatural_quantifier\u001b[0m\u001b[0;34m)\u001b[0m\u001b[0;34m\u001b[0m\u001b[0;34m\u001b[0m\u001b[0m\n\u001b[1;32m      7\u001b[0m \u001b[0mclassifier\u001b[0m\u001b[0;34m.\u001b[0m\u001b[0mplot\u001b[0m\u001b[0;34m(\u001b[0m\u001b[0;34m)\u001b[0m\u001b[0;34m\u001b[0m\u001b[0;34m\u001b[0m\u001b[0m\n\u001b[0;32m----> 8\u001b[0;31m \u001b[0mclassifier\u001b[0m\u001b[0;34m.\u001b[0m\u001b[0mlearn\u001b[0m\u001b[0;34m(\u001b[0m\u001b[0mepochs\u001b[0m\u001b[0;34m=\u001b[0m\u001b[0;36m3\u001b[0m\u001b[0;34m,\u001b[0m \u001b[0mmax_len\u001b[0m\u001b[0;34m=\u001b[0m\u001b[0;36m100\u001b[0m\u001b[0;34m)\u001b[0m\u001b[0;34m\u001b[0m\u001b[0;34m\u001b[0m\u001b[0m\n\u001b[0m",
      "\u001b[0;32m~/git/research/quantifiers/quants/src/quants/models.py\u001b[0m in \u001b[0;36mlearn\u001b[0;34m(self, scene_num, min_len, max_len, repeat, epochs, batch_size, verbose, *vargs, **kwargs)\u001b[0m\n\u001b[1;32m    331\u001b[0m                 \u001b[0mself\u001b[0m\u001b[0;34m.\u001b[0m\u001b[0mfit\u001b[0m\u001b[0;34m(\u001b[0m\u001b[0mtrain_scenes\u001b[0m\u001b[0;34m,\u001b[0m \u001b[0mepochs\u001b[0m\u001b[0;34m=\u001b[0m\u001b[0mepochs\u001b[0m\u001b[0;34m,\u001b[0m \u001b[0mbatch_size\u001b[0m\u001b[0;34m=\u001b[0m\u001b[0mbatch_size\u001b[0m\u001b[0;34m,\u001b[0m \u001b[0mverbose\u001b[0m\u001b[0;34m=\u001b[0m\u001b[0mverbose\u001b[0m\u001b[0;34m,\u001b[0m \u001b[0;34m*\u001b[0m\u001b[0mvargs\u001b[0m\u001b[0;34m,\u001b[0m \u001b[0;34m**\u001b[0m\u001b[0mkwargs\u001b[0m\u001b[0;34m)\u001b[0m\u001b[0;34m\u001b[0m\u001b[0;34m\u001b[0m\u001b[0m\n\u001b[1;32m    332\u001b[0m                 \u001b[0mprint\u001b[0m\u001b[0;34m(\u001b[0m\u001b[0;34m\"TRAIN\"\u001b[0m\u001b[0;34m)\u001b[0m\u001b[0;34m\u001b[0m\u001b[0;34m\u001b[0m\u001b[0m\n\u001b[0;32m--> 333\u001b[0;31m                 \u001b[0mself\u001b[0m\u001b[0;34m.\u001b[0m\u001b[0mtest\u001b[0m\u001b[0;34m(\u001b[0m\u001b[0mtrain_scenes\u001b[0m\u001b[0;34m,\u001b[0m \u001b[0mverbose\u001b[0m\u001b[0;34m=\u001b[0m\u001b[0mverbose\u001b[0m\u001b[0;34m)\u001b[0m\u001b[0;34m\u001b[0m\u001b[0;34m\u001b[0m\u001b[0m\n\u001b[0m\u001b[1;32m    334\u001b[0m                 \u001b[0mprint\u001b[0m\u001b[0;34m(\u001b[0m\u001b[0;34m\"TEST\"\u001b[0m\u001b[0;34m)\u001b[0m\u001b[0;34m\u001b[0m\u001b[0;34m\u001b[0m\u001b[0m\n\u001b[1;32m    335\u001b[0m                 \u001b[0mself\u001b[0m\u001b[0;34m.\u001b[0m\u001b[0mtest\u001b[0m\u001b[0;34m(\u001b[0m\u001b[0mtest_scenes\u001b[0m\u001b[0;34m,\u001b[0m \u001b[0mverbose\u001b[0m\u001b[0;34m=\u001b[0m\u001b[0mverbose\u001b[0m\u001b[0;34m)\u001b[0m\u001b[0;34m\u001b[0m\u001b[0;34m\u001b[0m\u001b[0m\n",
      "\u001b[0;31mTypeError\u001b[0m: test() missing 1 required positional argument: 'labels'"
     ]
    }
   ],
   "source": [
    "natural_quantifier = The()  # , Both(), No(), All(), Some(), Most()]\n",
    "\n",
    "# unnatural_quantifiers = [MinMax(2, 10), MinMax(3, 6), Or([MinMax(2, 5), MinMax(10, 20)])]\n",
    "unnatural_quantifiers = MinMax(2, 5)  # , MinMax(8, 10), MinMax(12, 15), MinMax(17, 20), MinMax(24, 30), MinMax(37, 50)]\n",
    "\n",
    "classifier = DenseAE(natural_quantifier)\n",
    "classifier.plot()\n",
    "classifier.learn(epochs=3, max_len=100)"
   ]
  },
  {
   "cell_type": "markdown",
   "metadata": {},
   "source": [
    "### Test"
   ]
  },
  {
   "cell_type": "code",
   "execution_count": 14,
   "metadata": {},
   "outputs": [],
   "source": [
    "def test_quantifer(model, quantifier):\n",
    "    test_size = 10\n",
    "\n",
    "    test_scenes = generate_random_scenes(scenes_num=test_size)\n",
    "    test_labels = [quantifier.quantify(test_scene) for test_scene in test_scenes]\n",
    "    test_results = [model.evaluate(test_scene.reshape(1, -1, 1), \n",
    "                                   test_scene.reshape(1, -1, 1), verbose=0) for test_scene in test_scenes]\n",
    "    thresh = np.mean(test_results)\n",
    "    test_thresh = [test_result < thresh for test_result in test_results]\n",
    "    print(np.sum(np.array(test_labels) == np.array(test_thresh)))"
   ]
  },
  {
   "cell_type": "code",
   "execution_count": 15,
   "metadata": {},
   "outputs": [],
   "source": [
    "quantifiers = [N(1), N(2), N(3), N(10), The(), Both(), Some(), Few(), No(), All(), Most()]\n",
    "\n",
    "def test_quantifers(model):\n",
    "    test_size = 1000\n",
    "    test_results = pd.DataFrame(columns=[quantifier.name() for quantifier in quantifiers])\n",
    "\n",
    "#     for i in range(test_size):\n",
    "    test_result = []\n",
    "    for quantifier in quantifiers:\n",
    "        test_scenes = generate_quantified_scenes(quantifier, scenes_num=test_size)\n",
    "        test_result.append(model.evaluate(test_scenes, test_scenes, verbose=0))\n",
    "\n",
    "    test_results.loc[0] = test_result\n",
    "    return test_results    "
   ]
  },
  {
   "cell_type": "markdown",
   "metadata": {},
   "source": [
    "#  PYOD"
   ]
  },
  {
   "cell_type": "code",
   "execution_count": 1,
   "metadata": {},
   "outputs": [
    {
     "name": "stderr",
     "output_type": "stream",
     "text": [
      "Using TensorFlow backend.\n"
     ]
    }
   ],
   "source": [
    "import numpy as np\n",
    "import pandas as pd\n",
    "from pyod.models.knn import KNN\n",
    "from pyod.models.auto_encoder import AutoEncoder\n",
    "from pyod.utils.data import generate_data"
   ]
  },
  {
   "cell_type": "code",
   "execution_count": 2,
   "metadata": {},
   "outputs": [
    {
     "name": "stderr",
     "output_type": "stream",
     "text": [
      "/home/doron/git/research/RESEARCH/lib/python3.8/site-packages/pyod/utils/data.py:186: FutureWarning: behaviour=\"old\" is deprecated and will be removed in version 0.8.0. Please use behaviour=\"new\", which makes the returned datasets in the order of X_train, X_test, y_train, y_test.\n",
      "  warn('behaviour=\"old\" is deprecated and will be removed '\n"
     ]
    }
   ],
   "source": [
    "contamination = 0.1  # percentage of outliers\n",
    "n_train = 500  # number of training points\n",
    "n_test = 500  # number of testing points\n",
    "n_features = 25 # Number of features\n",
    "\n",
    "X_train, y_train, X_test, y_test = generate_data(\n",
    "    n_train=n_train, n_test=n_test,\n",
    "    n_features= n_features, \n",
    "    contamination=contamination,random_state=1234)\n",
    "\n",
    "X_train = pd.DataFrame(X_train)\n",
    "X_test = pd.DataFrame(X_test)"
   ]
  },
  {
   "cell_type": "code",
   "execution_count": 3,
   "metadata": {},
   "outputs": [],
   "source": [
    "from sklearn.preprocessing import StandardScaler\n",
    "X_train = StandardScaler().fit_transform(X_train)\n",
    "X_train = pd.DataFrame(X_train)\n",
    "X_test = StandardScaler().fit_transform(X_test)\n",
    "X_test = pd.DataFrame(X_test)"
   ]
  },
  {
   "cell_type": "code",
   "execution_count": 4,
   "metadata": {},
   "outputs": [
    {
     "data": {
      "image/png": "[encoded data removed]",
      "text/plain": [
       "<Figure size 432x288 with 1 Axes>"
      ]
     },
     "metadata": {
      "needs_background": "light"
     },
     "output_type": "display_data"
    }
   ],
   "source": [
    "from sklearn.decomposition import PCA\n",
    "pca = PCA(2)\n",
    "x_pca = pca.fit_transform(X_train)\n",
    "x_pca = pd.DataFrame(x_pca)\n",
    "x_pca.columns=['PC1','PC2']\n",
    "\n",
    "# Plot\n",
    "import matplotlib.pyplot as plt\n",
    "plt.scatter(X_train[0], X_train[1], c=y_train, alpha=0.8)\n",
    "plt.title('Scatter plot')\n",
    "plt.xlabel('x')\n",
    "plt.ylabel('y')\n",
    "plt.show()"
   ]
  },
  {
   "cell_type": "code",
   "execution_count": 5,
   "metadata": {},
   "outputs": [
    {
     "name": "stdout",
     "output_type": "stream",
     "text": [
      "Model: \"sequential_1\"\n",
      "_________________________________________________________________\n",
      "Layer (type)                 Output Shape              Param #   \n",
      "=================================================================\n",
      "dense_1 (Dense)              (None, 25)                650       \n",
      "_________________________________________________________________\n",
      "dropout_1 (Dropout)          (None, 25)                0         \n",
      "_________________________________________________________________\n",
      "dense_2 (Dense)              (None, 25)                650       \n",
      "_________________________________________________________________\n",
      "dropout_2 (Dropout)          (None, 25)                0         \n",
      "_________________________________________________________________\n",
      "dense_3 (Dense)              (None, 25)                650       \n",
      "_________________________________________________________________\n",
      "dropout_3 (Dropout)          (None, 25)                0         \n",
      "_________________________________________________________________\n",
      "dense_4 (Dense)              (None, 2)                 52        \n",
      "_________________________________________________________________\n",
      "dropout_4 (Dropout)          (None, 2)                 0         \n",
      "_________________________________________________________________\n",
      "dense_5 (Dense)              (None, 2)                 6         \n",
      "_________________________________________________________________\n",
      "dropout_5 (Dropout)          (None, 2)                 0         \n",
      "_________________________________________________________________\n",
      "dense_6 (Dense)              (None, 25)                75        \n",
      "_________________________________________________________________\n",
      "dropout_6 (Dropout)          (None, 25)                0         \n",
      "_________________________________________________________________\n",
      "dense_7 (Dense)              (None, 25)                650       \n",
      "=================================================================\n",
      "Total params: 2,733\n",
      "Trainable params: 2,733\n",
      "Non-trainable params: 0\n",
      "_________________________________________________________________\n",
      "None\n",
      "Train on 450 samples, validate on 50 samples\n",
      "Epoch 1/100\n",
      "450/450 [==============================] - 1s 2ms/step - loss: 115.0311 - val_loss: 86.3859\n",
      "Epoch 2/100\n",
      "450/450 [==============================] - 0s 118us/step - loss: 82.2187 - val_loss: 66.6153\n",
      "Epoch 3/100\n",
      "450/450 [==============================] - 0s 117us/step - loss: 65.0300 - val_loss: 54.7799\n",
      "Epoch 4/100\n",
      "450/450 [==============================] - 0s 117us/step - loss: 55.6882 - val_loss: 46.5370\n",
      "Epoch 5/100\n",
      "450/450 [==============================] - 0s 115us/step - loss: 48.4710 - val_loss: 40.3840\n",
      "Epoch 6/100\n",
      "450/450 [==============================] - 0s 115us/step - loss: 42.2828 - val_loss: 35.8251\n",
      "Epoch 7/100\n",
      "450/450 [==============================] - 0s 118us/step - loss: 37.8121 - val_loss: 32.0777\n",
      "Epoch 8/100\n",
      "450/450 [==============================] - 0s 122us/step - loss: 34.3392 - val_loss: 29.0415\n",
      "Epoch 9/100\n",
      "450/450 [==============================] - 0s 111us/step - loss: 31.0358 - val_loss: 26.4049\n",
      "Epoch 10/100\n",
      "450/450 [==============================] - 0s 107us/step - loss: 28.4423 - val_loss: 24.1255\n",
      "Epoch 11/100\n",
      "450/450 [==============================] - 0s 110us/step - loss: 25.9935 - val_loss: 21.9389\n",
      "Epoch 12/100\n",
      "450/450 [==============================] - 0s 111us/step - loss: 23.7222 - val_loss: 20.1116\n",
      "Epoch 13/100\n",
      "450/450 [==============================] - 0s 125us/step - loss: 22.0046 - val_loss: 18.4733\n",
      "Epoch 14/100\n",
      "450/450 [==============================] - 0s 118us/step - loss: 20.1489 - val_loss: 17.0178\n",
      "Epoch 15/100\n",
      "450/450 [==============================] - 0s 115us/step - loss: 18.6558 - val_loss: 15.7130\n",
      "Epoch 16/100\n",
      "450/450 [==============================] - 0s 125us/step - loss: 17.3010 - val_loss: 14.6453\n",
      "Epoch 17/100\n",
      "450/450 [==============================] - 0s 117us/step - loss: 16.2351 - val_loss: 13.7575\n",
      "Epoch 18/100\n",
      "450/450 [==============================] - 0s 111us/step - loss: 15.2452 - val_loss: 12.9831\n",
      "Epoch 19/100\n",
      "450/450 [==============================] - 0s 110us/step - loss: 14.3414 - val_loss: 12.3330\n",
      "Epoch 20/100\n",
      "450/450 [==============================] - 0s 118us/step - loss: 13.5442 - val_loss: 11.7110\n",
      "Epoch 21/100\n",
      "450/450 [==============================] - 0s 117us/step - loss: 12.8218 - val_loss: 11.1798\n",
      "Epoch 22/100\n",
      "450/450 [==============================] - 0s 113us/step - loss: 12.2961 - val_loss: 10.7308\n",
      "Epoch 23/100\n",
      "450/450 [==============================] - 0s 123us/step - loss: 11.7946 - val_loss: 10.2839\n",
      "Epoch 24/100\n",
      "450/450 [==============================] - 0s 118us/step - loss: 11.1794 - val_loss: 9.8810\n",
      "Epoch 25/100\n",
      "450/450 [==============================] - 0s 121us/step - loss: 10.7402 - val_loss: 9.5132\n",
      "Epoch 26/100\n",
      "450/450 [==============================] - 0s 112us/step - loss: 10.3805 - val_loss: 9.1936\n",
      "Epoch 27/100\n",
      "450/450 [==============================] - 0s 118us/step - loss: 10.0598 - val_loss: 8.9162\n",
      "Epoch 28/100\n",
      "450/450 [==============================] - 0s 115us/step - loss: 9.5679 - val_loss: 8.6209\n",
      "Epoch 29/100\n",
      "450/450 [==============================] - 0s 121us/step - loss: 9.1707 - val_loss: 8.3647\n",
      "Epoch 30/100\n",
      "450/450 [==============================] - 0s 115us/step - loss: 8.9383 - val_loss: 8.1119\n",
      "Epoch 31/100\n",
      "450/450 [==============================] - 0s 126us/step - loss: 8.5606 - val_loss: 7.8814\n",
      "Epoch 32/100\n",
      "450/450 [==============================] - 0s 135us/step - loss: 8.3434 - val_loss: 7.6656\n",
      "Epoch 33/100\n",
      "450/450 [==============================] - 0s 131us/step - loss: 8.1098 - val_loss: 7.4560\n",
      "Epoch 34/100\n",
      "450/450 [==============================] - 0s 116us/step - loss: 7.9283 - val_loss: 7.2589\n",
      "Epoch 35/100\n",
      "450/450 [==============================] - 0s 119us/step - loss: 7.6428 - val_loss: 7.0890\n",
      "Epoch 36/100\n",
      "450/450 [==============================] - 0s 123us/step - loss: 7.4598 - val_loss: 6.9033\n",
      "Epoch 37/100\n",
      "450/450 [==============================] - 0s 120us/step - loss: 7.2121 - val_loss: 6.7398\n",
      "Epoch 38/100\n",
      "450/450 [==============================] - 0s 125us/step - loss: 7.1158 - val_loss: 6.5975\n",
      "Epoch 39/100\n",
      "450/450 [==============================] - 0s 110us/step - loss: 6.9192 - val_loss: 6.4485\n",
      "Epoch 40/100\n",
      "450/450 [==============================] - 0s 111us/step - loss: 6.7535 - val_loss: 6.3093\n",
      "Epoch 41/100\n",
      "450/450 [==============================] - 0s 113us/step - loss: 6.6054 - val_loss: 6.1726\n",
      "Epoch 42/100\n",
      "450/450 [==============================] - 0s 109us/step - loss: 6.4201 - val_loss: 6.0492\n",
      "Epoch 43/100\n",
      "450/450 [==============================] - 0s 111us/step - loss: 6.2814 - val_loss: 5.9426\n",
      "Epoch 44/100\n",
      "450/450 [==============================] - 0s 112us/step - loss: 6.0654 - val_loss: 5.8242\n",
      "Epoch 45/100\n",
      "450/450 [==============================] - 0s 123us/step - loss: 6.0107 - val_loss: 5.7264\n",
      "Epoch 46/100\n",
      "450/450 [==============================] - 0s 120us/step - loss: 5.9126 - val_loss: 5.6078\n",
      "Epoch 47/100\n",
      "450/450 [==============================] - 0s 100us/step - loss: 5.8012 - val_loss: 5.5147\n",
      "Epoch 48/100\n",
      "450/450 [==============================] - 0s 110us/step - loss: 5.6816 - val_loss: 5.4133\n",
      "Epoch 49/100\n",
      "450/450 [==============================] - 0s 109us/step - loss: 5.5561 - val_loss: 5.3360\n",
      "Epoch 50/100\n",
      "450/450 [==============================] - 0s 109us/step - loss: 5.4329 - val_loss: 5.2456\n",
      "Epoch 51/100\n",
      "450/450 [==============================] - 0s 115us/step - loss: 5.3507 - val_loss: 5.1624\n",
      "Epoch 52/100\n",
      "450/450 [==============================] - 0s 116us/step - loss: 5.2159 - val_loss: 5.0819\n",
      "Epoch 53/100\n",
      "450/450 [==============================] - 0s 108us/step - loss: 5.2228 - val_loss: 5.0021\n",
      "Epoch 54/100\n",
      "450/450 [==============================] - 0s 112us/step - loss: 5.1106 - val_loss: 4.9345\n",
      "Epoch 55/100\n",
      "450/450 [==============================] - 0s 121us/step - loss: 4.9730 - val_loss: 4.8584\n",
      "Epoch 56/100\n",
      "450/450 [==============================] - 0s 113us/step - loss: 4.9088 - val_loss: 4.7873\n",
      "Epoch 57/100\n",
      "450/450 [==============================] - 0s 119us/step - loss: 4.8238 - val_loss: 4.7223\n",
      "Epoch 58/100\n",
      "450/450 [==============================] - 0s 113us/step - loss: 4.7357 - val_loss: 4.6550\n",
      "Epoch 59/100\n"
     ]
    },
    {
     "name": "stdout",
     "output_type": "stream",
     "text": [
      "450/450 [==============================] - 0s 109us/step - loss: 4.6857 - val_loss: 4.5935\n",
      "Epoch 60/100\n",
      "450/450 [==============================] - 0s 108us/step - loss: 4.5842 - val_loss: 4.5410\n",
      "Epoch 61/100\n",
      "450/450 [==============================] - 0s 108us/step - loss: 4.5360 - val_loss: 4.4836\n",
      "Epoch 62/100\n",
      "450/450 [==============================] - 0s 111us/step - loss: 4.4725 - val_loss: 4.4304\n",
      "Epoch 63/100\n",
      "450/450 [==============================] - 0s 111us/step - loss: 4.4218 - val_loss: 4.3772\n",
      "Epoch 64/100\n",
      "450/450 [==============================] - 0s 114us/step - loss: 4.4130 - val_loss: 4.3258\n",
      "Epoch 65/100\n",
      "450/450 [==============================] - 0s 107us/step - loss: 4.2890 - val_loss: 4.2749\n",
      "Epoch 66/100\n",
      "450/450 [==============================] - 0s 112us/step - loss: 4.2630 - val_loss: 4.2276\n",
      "Epoch 67/100\n",
      "450/450 [==============================] - 0s 105us/step - loss: 4.2352 - val_loss: 4.1813\n",
      "Epoch 68/100\n",
      "450/450 [==============================] - 0s 114us/step - loss: 4.1262 - val_loss: 4.1359\n",
      "Epoch 69/100\n",
      "450/450 [==============================] - 0s 110us/step - loss: 4.1066 - val_loss: 4.0915\n",
      "Epoch 70/100\n",
      "450/450 [==============================] - 0s 108us/step - loss: 4.0756 - val_loss: 4.0512\n",
      "Epoch 71/100\n",
      "450/450 [==============================] - 0s 117us/step - loss: 4.0025 - val_loss: 4.0093\n",
      "Epoch 72/100\n",
      "450/450 [==============================] - 0s 106us/step - loss: 3.9937 - val_loss: 3.9662\n",
      "Epoch 73/100\n",
      "450/450 [==============================] - 0s 112us/step - loss: 3.9595 - val_loss: 3.9291\n",
      "Epoch 74/100\n",
      "450/450 [==============================] - 0s 103us/step - loss: 3.8817 - val_loss: 3.8930\n",
      "Epoch 75/100\n",
      "450/450 [==============================] - 0s 110us/step - loss: 3.8088 - val_loss: 3.8561\n",
      "Epoch 76/100\n",
      "450/450 [==============================] - 0s 106us/step - loss: 3.8124 - val_loss: 3.8197\n",
      "Epoch 77/100\n",
      "450/450 [==============================] - 0s 106us/step - loss: 3.7903 - val_loss: 3.7815\n",
      "Epoch 78/100\n",
      "450/450 [==============================] - 0s 115us/step - loss: 3.7196 - val_loss: 3.7460\n",
      "Epoch 79/100\n",
      "450/450 [==============================] - 0s 115us/step - loss: 3.7261 - val_loss: 3.7172\n",
      "Epoch 80/100\n",
      "450/450 [==============================] - 0s 110us/step - loss: 3.6219 - val_loss: 3.6842\n",
      "Epoch 81/100\n",
      "450/450 [==============================] - 0s 141us/step - loss: 3.5929 - val_loss: 3.6501\n",
      "Epoch 82/100\n",
      "450/450 [==============================] - 0s 123us/step - loss: 3.5430 - val_loss: 3.6213\n",
      "Epoch 83/100\n",
      "450/450 [==============================] - 0s 132us/step - loss: 3.5100 - val_loss: 3.5923\n",
      "Epoch 84/100\n",
      "450/450 [==============================] - 0s 132us/step - loss: 3.4937 - val_loss: 3.5624\n",
      "Epoch 85/100\n",
      "450/450 [==============================] - 0s 104us/step - loss: 3.4539 - val_loss: 3.5355\n",
      "Epoch 86/100\n",
      "450/450 [==============================] - 0s 108us/step - loss: 3.4189 - val_loss: 3.5076\n",
      "Epoch 87/100\n",
      "450/450 [==============================] - 0s 110us/step - loss: 3.4327 - val_loss: 3.4793\n",
      "Epoch 88/100\n",
      "450/450 [==============================] - 0s 115us/step - loss: 3.4005 - val_loss: 3.4538\n",
      "Epoch 89/100\n",
      "450/450 [==============================] - 0s 107us/step - loss: 3.3622 - val_loss: 3.4278\n",
      "Epoch 90/100\n",
      "450/450 [==============================] - 0s 108us/step - loss: 3.3068 - val_loss: 3.4015\n",
      "Epoch 91/100\n",
      "450/450 [==============================] - 0s 105us/step - loss: 3.3120 - val_loss: 3.3781\n",
      "Epoch 92/100\n",
      "450/450 [==============================] - 0s 105us/step - loss: 3.2777 - val_loss: 3.3538\n",
      "Epoch 93/100\n",
      "450/450 [==============================] - 0s 127us/step - loss: 3.2354 - val_loss: 3.3291\n",
      "Epoch 94/100\n",
      "450/450 [==============================] - 0s 123us/step - loss: 3.1763 - val_loss: 3.3088\n",
      "Epoch 95/100\n",
      "450/450 [==============================] - 0s 125us/step - loss: 3.1804 - val_loss: 3.2863\n",
      "Epoch 96/100\n",
      "450/450 [==============================] - 0s 142us/step - loss: 3.1498 - val_loss: 3.2634\n",
      "Epoch 97/100\n",
      "450/450 [==============================] - 0s 119us/step - loss: 3.1630 - val_loss: 3.2412\n",
      "Epoch 98/100\n",
      "450/450 [==============================] - 0s 104us/step - loss: 3.0901 - val_loss: 3.2211\n",
      "Epoch 99/100\n",
      "450/450 [==============================] - 0s 106us/step - loss: 3.1075 - val_loss: 3.1996\n",
      "Epoch 100/100\n",
      "450/450 [==============================] - 0s 137us/step - loss: 3.0653 - val_loss: 3.1783\n"
     ]
    },
    {
     "data": {
      "text/plain": [
       "AutoEncoder(batch_size=32, contamination=0.1, dropout_rate=0.2, epochs=100,\n",
       "      hidden_activation='relu', hidden_neurons=[25, 2, 2, 25],\n",
       "      l2_regularizer=0.1,\n",
       "      loss=<function mean_squared_error at 0x7f53cfa4c430>,\n",
       "      optimizer='adam', output_activation='sigmoid', preprocessing=True,\n",
       "      random_state=None, validation_size=0.1, verbose=1)"
      ]
     },
     "execution_count": 5,
     "metadata": {},
     "output_type": "execute_result"
    }
   ],
   "source": [
    "clf1 = AutoEncoder(hidden_neurons =[25, 2, 2, 25])\n",
    "clf1.fit(X_train)"
   ]
  },
  {
   "cell_type": "code",
   "execution_count": 6,
   "metadata": {},
   "outputs": [
    {
     "data": {
      "image/png": "[encoded data removed]",
      "text/plain": [
       "<Figure size 432x288 with 1 Axes>"
      ]
     },
     "metadata": {
      "needs_background": "light"
     },
     "output_type": "display_data"
    }
   ],
   "source": [
    "# Get the outlier scores for the train data\n",
    "y_train_scores = clf1.decision_scores_  \n",
    "\n",
    "# Predict the anomaly scores\n",
    "y_test_scores = clf1.decision_function(X_test)  # outlier scores\n",
    "y_test_scores = pd.Series(y_test_scores)\n",
    "\n",
    "# Plot it!\n",
    "import matplotlib.pyplot as plt\n",
    "plt.hist(y_test_scores, bins='auto')  \n",
    "plt.title(\"Histogram for Model Clf1 Anomaly Scores\")\n",
    "plt.show()"
   ]
  }
 ],
 "metadata": {
  "kernelspec": {
   "display_name": "Python 3",
   "language": "python",
   "name": "python3"
  },
  "language_info": {
   "codemirror_mode": {
    "name": "ipython",
    "version": 3
   },
   "file_extension": ".py",
   "mimetype": "text/x-python",
   "name": "python",
   "nbconvert_exporter": "python",
   "pygments_lexer": "ipython3",
   "version": "3.8.5"
  }
 },
 "nbformat": 4,
 "nbformat_minor": 4
}
