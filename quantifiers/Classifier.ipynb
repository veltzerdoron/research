{
 "cells": [
  {
   "cell_type": "markdown",
   "metadata": {},
   "source": [
    "## Classifier  approach\n",
    "---\n",
    "This approach assumes that quantifiers are learned as a group and that essentially each q quantifier example is a negative example for all other quantifiers q'.\n",
    "\n",
    "The classifier is in effect a solver for which q makes the sentence \"Q as are bs\" most likely given an input scene s.\n",
    "\n",
    "This enables us to use not only the quantifier quantify evaluation methods but the classifier in order to generate a teacher-student scheme."
   ]
  },
  {
   "cell_type": "markdown",
   "metadata": {},
   "source": [
    "## Imports"
   ]
  },
  {
   "cell_type": "markdown",
   "metadata": {},
   "source": [
    "### my class imports"
   ]
  },
  {
   "cell_type": "code",
   "execution_count": 2,
   "metadata": {},
   "outputs": [],
   "source": [
    "%load_ext autoreload\n",
    "%autoreload 2"
   ]
  },
  {
   "cell_type": "code",
   "execution_count": 4,
   "metadata": {
    "scrolled": true
   },
   "outputs": [
    {
     "name": "stderr",
     "output_type": "stream",
     "text": [
      "Using TensorFlow backend.\n"
     ]
    }
   ],
   "source": [
    "from quants.quantifiers import *\n",
    "from quants.models import Classifier"
   ]
  },
  {
   "cell_type": "markdown",
   "metadata": {},
   "source": [
    "### Global imports"
   ]
  },
  {
   "cell_type": "code",
   "execution_count": 5,
   "metadata": {},
   "outputs": [],
   "source": [
    "import numpy as np\n",
    "import pandas as pd"
   ]
  },
  {
   "cell_type": "markdown",
   "metadata": {},
   "source": [
    "### keras and TF imports"
   ]
  },
  {
   "cell_type": "code",
   "execution_count": 6,
   "metadata": {},
   "outputs": [
    {
     "name": "stdout",
     "output_type": "stream",
     "text": [
      "TensorFlow version:  2.2.0\n"
     ]
    }
   ],
   "source": [
    "import tensorflow as tf\n",
    "\n",
    "print(\"TensorFlow version: \", tf.__version__)\n",
    "\n",
    "import keras\n",
    "\n",
    "from keras.models import Sequential\n",
    "from keras.layers import SimpleRNN, LSTM, Embedding, Dense, Conv1D, Input, Bidirectional, RepeatVector, Dropout, LeakyReLU, Flatten\n",
    "from keras.preprocessing.text import one_hot\n",
    "from keras.preprocessing.sequence import pad_sequences\n",
    "from keras.optimizers import SGD, Adam"
   ]
  },
  {
   "cell_type": "code",
   "execution_count": 7,
   "metadata": {},
   "outputs": [
    {
     "name": "stdout",
     "output_type": "stream",
     "text": [
      "Keras backend:  tensorflow\n"
     ]
    },
    {
     "data": {
      "text/plain": [
       "[LogicalDevice(name='/device:CPU:0', device_type='CPU'),\n",
       " LogicalDevice(name='/device:XLA_CPU:0', device_type='XLA_CPU'),\n",
       " LogicalDevice(name='/device:XLA_GPU:0', device_type='XLA_GPU'),\n",
       " LogicalDevice(name='/device:GPU:0', device_type='GPU')]"
      ]
     },
     "execution_count": 7,
     "metadata": {},
     "output_type": "execute_result"
    }
   ],
   "source": [
    "gpu_options = tf.compat.v1.GPUOptions(per_process_gpu_memory_fraction=0.3)\n",
    "sess = tf.compat.v1.Session(config=tf.compat.v1.ConfigProto(gpu_options=gpu_options))\n",
    "print(\"Keras backend: \", tf.python.keras.backend.backend())\n",
    "tf.python.keras.backend.set_session(sess)\n",
    "tf.config.list_logical_devices()\n"
   ]
  },
  {
   "cell_type": "markdown",
   "metadata": {},
   "source": [
    "### Classifier models"
   ]
  },
  {
   "cell_type": "code",
   "execution_count": 8,
   "metadata": {},
   "outputs": [],
   "source": [
    "class DDNNClassifier(Classifier):\n",
    "    \"\"\" deep dense classifier model builder method \"\"\"\n",
    "    \n",
    "    def build(self):\n",
    "        model= Sequential()\n",
    "        model.add(Dense(Quantifier.scene_len, activation=\"relu\", name=\"input\"))\n",
    "        model.add(Dropout(0.25, name=\"dropout_1\"))\n",
    "        model.add(Dense(100, activation=\"relu\", name=\"dense_2\"))\n",
    "        model.add(Dropout(0.25, name=\"dropout_2\"))\n",
    "        model.add(Dense(50, activation=\"relu\", name=\"dense_3\"))\n",
    "        model.add(Dropout(0.25, name=\"dropout_3\"))\n",
    "        model.add(Dense(len(self._quantifiers), activation='softmax', name=\"softmax_1\"))\n",
    "        # Compile model\n",
    "        model.compile(loss='categorical_crossentropy', optimizer='adam', metrics=[tf.keras.metrics.Precision(),\n",
    "                                                                                  tf.keras.metrics.Recall()])\n",
    "        return model"
   ]
  },
  {
   "cell_type": "code",
   "execution_count": 9,
   "metadata": {},
   "outputs": [],
   "source": [
    "class DNNClassifier(Classifier):\n",
    "    \"\"\" dense classifier model builder method \"\"\"\n",
    "    \n",
    "    def build(self):\n",
    "        model= Sequential()\n",
    "        model.add(Dense(Quantifier.scene_len, activation=\"relu\", name=\"input\"))\n",
    "        model.add(Dropout(0.5, name=\"dropout_1\"))\n",
    "        model.add(Dense(len(self._quantifiers), activation='softmax', name=\"softmax_1\"))\n",
    "        # Compile model\n",
    "        model.compile(loss='categorical_crossentropy', optimizer='adam', metrics=[tf.keras.metrics.Precision(),\n",
    "                                                                                  tf.keras.metrics.Recall()])\n",
    "        return model"
   ]
  },
  {
   "cell_type": "code",
   "execution_count": 42,
   "metadata": {},
   "outputs": [],
   "source": [
    "from tensorflow.keras import initializers\n",
    "from keras.utils import np_utils\n",
    "\n",
    "class CNNClassifier(Classifier):\n",
    "    \"\"\" Convolutional classifier model builder method \"\"\"\n",
    "\n",
    "    def build(self):\n",
    "        model = Sequential()\n",
    "        model.add(Conv1D(filters=2, kernel_size=1,\n",
    "                         use_bias=False,\n",
    "                         input_shape=(Quantifier.scene_len, len(symbols)), name=\"conv_1\"))\n",
    "        model.add(Dropout(0.25, name=\"dropout_1\"))\n",
    "        model.add(Flatten())\n",
    "        model.add(Dense(len(self._quantifiers),\n",
    "                        kernel_initializer=\"constant\", trainable=False, use_bias=False,\n",
    "                        activation='softmax', name=\"softmax_1\"))\n",
    "        # Compile model\n",
    "        model.compile(loss='categorical_crossentropy', optimizer='adam', metrics=[tf.keras.metrics.Precision(),\n",
    "                                                                                  tf.keras.metrics.Recall()])\n",
    "        return model\n",
    "\n",
    "    def prepare(self, scenes):\n",
    "        return np_utils.to_categorical(scenes)"
   ]
  },
  {
   "cell_type": "markdown",
   "metadata": {},
   "source": [
    "## Quantifier sets for learning"
   ]
  },
  {
   "cell_type": "code",
   "execution_count": 68,
   "metadata": {},
   "outputs": [
    {
     "ename": "AssertionError",
     "evalue": "All(scene=Scene generated by quantifier) == False",
     "output_type": "error",
     "traceback": [
      "\u001b[0;31m---------------------------------------------------------------------------\u001b[0m",
      "\u001b[0;31mAssertionError\u001b[0m                            Traceback (most recent call last)",
      "\u001b[0;32m<ipython-input-68-0882d95945cc>\u001b[0m in \u001b[0;36m<module>\u001b[0;34m\u001b[0m\n\u001b[0;32m----> 1\u001b[0;31m \u001b[0mAll\u001b[0m\u001b[0;34m(\u001b[0m\u001b[0;34m)\u001b[0m\u001b[0;34m.\u001b[0m\u001b[0mgenerate_scenes\u001b[0m\u001b[0;34m(\u001b[0m\u001b[0;34m)\u001b[0m\u001b[0;34m\u001b[0m\u001b[0;34m\u001b[0m\u001b[0m\n\u001b[0m",
      "\u001b[0;32m~/git/research/notebooks/quantifiers/quants/src/quants/quantifiers.py\u001b[0m in \u001b[0;36mgenerate_scenes\u001b[0;34m(self, scene_num, min_len, max_len)\u001b[0m\n\u001b[1;32m     75\u001b[0m                   for _ in range(scene_num)]\n\u001b[1;32m     76\u001b[0m         \u001b[0;31m# sanity check that the quantifier is generated quantifier true scenes\u001b[0m\u001b[0;34m\u001b[0m\u001b[0;34m\u001b[0m\u001b[0;34m\u001b[0m\u001b[0m\n\u001b[0;32m---> 77\u001b[0;31m         \u001b[0;32massert\u001b[0m \u001b[0;34m(\u001b[0m\u001b[0mnp\u001b[0m\u001b[0;34m.\u001b[0m\u001b[0mall\u001b[0m\u001b[0;34m(\u001b[0m\u001b[0;34m[\u001b[0m\u001b[0mself\u001b[0m\u001b[0;34m.\u001b[0m\u001b[0mquantify\u001b[0m\u001b[0;34m(\u001b[0m\u001b[0mscene\u001b[0m\u001b[0;34m)\u001b[0m \u001b[0;32mfor\u001b[0m \u001b[0mscene\u001b[0m \u001b[0;32min\u001b[0m \u001b[0mscenes\u001b[0m\u001b[0;34m]\u001b[0m\u001b[0;34m)\u001b[0m\u001b[0;34m)\u001b[0m\u001b[0;34m,\u001b[0m\u001b[0;31m\\\u001b[0m\u001b[0;34m\u001b[0m\u001b[0;34m\u001b[0m\u001b[0m\n\u001b[0m\u001b[1;32m     78\u001b[0m             \u001b[0;34m\"{} == False\"\u001b[0m\u001b[0;34m.\u001b[0m\u001b[0mformat\u001b[0m\u001b[0;34m(\u001b[0m\u001b[0mself\u001b[0m\u001b[0;34m.\u001b[0m\u001b[0mname\u001b[0m\u001b[0;34m(\u001b[0m\u001b[0mscene\u001b[0m\u001b[0;34m=\u001b[0m\u001b[0;34m\"Scene generated by quantifier\"\u001b[0m\u001b[0;34m)\u001b[0m\u001b[0;34m)\u001b[0m\u001b[0;34m\u001b[0m\u001b[0;34m\u001b[0m\u001b[0m\n\u001b[1;32m     79\u001b[0m \u001b[0;34m\u001b[0m\u001b[0m\n",
      "\u001b[0;31mAssertionError\u001b[0m: All(scene=Scene generated by quantifier) == False"
     ]
    }
   ],
   "source": [
    "All().generate_scenes()"
   ]
  },
  {
   "cell_type": "code",
   "execution_count": 11,
   "metadata": {},
   "outputs": [],
   "source": [
    "natural_quantifiers = [The(), Both(), No(), All(), Some(), Most()]"
   ]
  },
  {
   "cell_type": "code",
   "execution_count": 12,
   "metadata": {},
   "outputs": [],
   "source": [
    "# unnatural_quantifiers = [MinMax(2, 10), MinMax(3, 6), Or([MinMax(2, 5), MinMax(10, 20)])]\n",
    "unnatural_quantifiers = [MinMax(2, 5), MinMax(8, 10), MinMax(12, 15), MinMax(17, 20), MinMax(24, 30), MinMax(37, 50)]"
   ]
  },
  {
   "cell_type": "code",
   "execution_count": 43,
   "metadata": {
    "scrolled": false
   },
   "outputs": [
    {
     "name": "stdout",
     "output_type": "stream",
     "text": [
      "CNNClassifier model classifies ['All()' 'Both()' 'Most()' 'No()' 'Some()' 'The()']\n",
      "Epoch 1/15\n",
      "6000/6000 [==============================] - 1s 133us/step - loss: 1.7918 - precision_15: 0.0000e+00 - recall_15: 0.0000e+00\n",
      "Epoch 2/15\n",
      "6000/6000 [==============================] - 1s 124us/step - loss: 1.7918 - precision_15: 0.0000e+00 - recall_15: 0.0000e+00\n",
      "Epoch 3/15\n",
      "6000/6000 [==============================] - 1s 125us/step - loss: 1.7918 - precision_15: 0.0000e+00 - recall_15: 0.0000e+00\n",
      "Epoch 4/15\n",
      "6000/6000 [==============================] - 1s 122us/step - loss: 1.7918 - precision_15: 0.0000e+00 - recall_15: 0.0000e+00\n",
      "Epoch 5/15\n",
      "6000/6000 [==============================] - 1s 122us/step - loss: 1.7918 - precision_15: 0.0000e+00 - recall_15: 0.0000e+00\n",
      "Epoch 6/15\n",
      "6000/6000 [==============================] - 1s 123us/step - loss: 1.7918 - precision_15: 0.0000e+00 - recall_15: 0.0000e+00\n",
      "Epoch 7/15\n",
      "6000/6000 [==============================] - 1s 117us/step - loss: 1.7918 - precision_15: 0.0000e+00 - recall_15: 0.0000e+00\n",
      "Epoch 8/15\n",
      "6000/6000 [==============================] - 1s 117us/step - loss: 1.7918 - precision_15: 0.0000e+00 - recall_15: 0.0000e+00\n",
      "Epoch 9/15\n",
      "6000/6000 [==============================] - 1s 115us/step - loss: 1.7918 - precision_15: 0.0000e+00 - recall_15: 0.0000e+00\n",
      "Epoch 10/15\n",
      "6000/6000 [==============================] - 1s 114us/step - loss: 1.7918 - precision_15: 0.0000e+00 - recall_15: 0.0000e+00\n",
      "Epoch 11/15\n",
      "6000/6000 [==============================] - 1s 117us/step - loss: 1.7918 - precision_15: 0.0000e+00 - recall_15: 0.0000e+00\n",
      "Epoch 12/15\n",
      "6000/6000 [==============================] - 1s 115us/step - loss: 1.7918 - precision_15: 0.0000e+00 - recall_15: 0.0000e+00\n",
      "Epoch 13/15\n",
      "6000/6000 [==============================] - 1s 116us/step - loss: 1.7918 - precision_15: 0.0000e+00 - recall_15: 0.0000e+00\n",
      "Epoch 14/15\n",
      "6000/6000 [==============================] - 1s 123us/step - loss: 1.7918 - precision_15: 0.0000e+00 - recall_15: 0.0000e+00\n",
      "Epoch 15/15\n",
      "6000/6000 [==============================] - 1s 123us/step - loss: 1.7918 - precision_15: 0.0000e+00 - recall_15: 0.0000e+00\n",
      "TRAIN\n",
      "Evaluation metrics: \n",
      "6000/6000 [==============================] - 0s 32us/step\n",
      "[1.7917594909667969, 0.0, 0.0]\n",
      "Confusion matrix: \n",
      "        All()  Both()  Most()  No()  Some()  The()\n",
      "All()    1000       0       0     0       0      0\n",
      "Both()   1000       0       0     0       0      0\n",
      "Most()   1000       0       0     0       0      0\n",
      "No()     1000       0       0     0       0      0\n",
      "Some()   1000       0       0     0       0      0\n",
      "The()    1000       0       0     0       0      0\n",
      "Classification report: \n",
      "              precision    recall  f1-score   support\n",
      "\n",
      "       All()     0.1667    1.0000    0.2857      1000\n",
      "      Both()     0.0000    0.0000    0.0000      1000\n",
      "      Most()     0.0000    0.0000    0.0000      1000\n",
      "        No()     0.0000    0.0000    0.0000      1000\n",
      "      Some()     0.0000    0.0000    0.0000      1000\n",
      "       The()     0.0000    0.0000    0.0000      1000\n",
      "\n",
      "    accuracy                         0.1667      6000\n",
      "   macro avg     0.0278    0.1667    0.0476      6000\n",
      "weighted avg     0.0278    0.1667    0.0476      6000\n",
      "\n",
      "TEST\n",
      "Evaluation metrics: \n",
      "6000/6000 [==============================] - 0s 26us/step\n",
      "[1.7917594909667969, 0.0, 0.0]\n"
     ]
    },
    {
     "name": "stderr",
     "output_type": "stream",
     "text": [
      "/home/doron/git/research/RESEARCH/lib/python3.8/site-packages/sklearn/metrics/_classification.py:1221: UndefinedMetricWarning: Precision and F-score are ill-defined and being set to 0.0 in labels with no predicted samples. Use `zero_division` parameter to control this behavior.\n",
      "  _warn_prf(average, modifier, msg_start, len(result))\n"
     ]
    },
    {
     "name": "stdout",
     "output_type": "stream",
     "text": [
      "Confusion matrix: \n",
      "        All()  Both()  Most()  No()  Some()  The()\n",
      "All()    1000       0       0     0       0      0\n",
      "Both()   1000       0       0     0       0      0\n",
      "Most()   1000       0       0     0       0      0\n",
      "No()     1000       0       0     0       0      0\n",
      "Some()   1000       0       0     0       0      0\n",
      "The()    1000       0       0     0       0      0\n",
      "Classification report: \n",
      "              precision    recall  f1-score   support\n",
      "\n",
      "       All()     0.1667    1.0000    0.2857      1000\n",
      "      Both()     0.0000    0.0000    0.0000      1000\n",
      "      Most()     0.0000    0.0000    0.0000      1000\n",
      "        No()     0.0000    0.0000    0.0000      1000\n",
      "      Some()     0.0000    0.0000    0.0000      1000\n",
      "       The()     0.0000    0.0000    0.0000      1000\n",
      "\n",
      "    accuracy                         0.1667      6000\n",
      "   macro avg     0.0278    0.1667    0.0476      6000\n",
      "weighted avg     0.0278    0.1667    0.0476      6000\n",
      "\n",
      "Quantifier counts:  [1000]\n"
     ]
    },
    {
     "name": "stderr",
     "output_type": "stream",
     "text": [
      "/home/doron/git/research/RESEARCH/lib/python3.8/site-packages/sklearn/metrics/_classification.py:1221: UndefinedMetricWarning: Precision and F-score are ill-defined and being set to 0.0 in labels with no predicted samples. Use `zero_division` parameter to control this behavior.\n",
      "  _warn_prf(average, modifier, msg_start, len(result))\n"
     ]
    },
    {
     "name": "stdout",
     "output_type": "stream",
     "text": [
      "Support:  1000\n",
      "Accuracy:  0.0\n"
     ]
    }
   ],
   "source": [
    "natural_classifier = CNNClassifier(natural_quantifiers).teach(epochs=15)\n",
    "# natural_classifier = teach(DNNClassifier(natural_quantifiers), epochs=15, max_len=10)"
   ]
  },
  {
   "cell_type": "code",
   "execution_count": 36,
   "metadata": {},
   "outputs": [
    {
     "name": "stdout",
     "output_type": "stream",
     "text": [
      "(None, 500, 4) (None, 500, 2)\n",
      "(None, 1000) (None, 6)\n"
     ]
    },
    {
     "data": {
      "text/plain": [
       "[array([[ 0.1076507 ,  0.13008717, -0.01818368, -0.22356793, -0.00356855,\n",
       "         -0.00904826],\n",
       "        [-0.0006467 ,  0.0793877 ,  0.10010331, -0.095723  , -0.1381944 ,\n",
       "          0.02341199],\n",
       "        [ 0.09779829,  0.02340156, -0.00931393, -0.06722328,  0.0653357 ,\n",
       "         -0.04348795],\n",
       "        ...,\n",
       "        [ 0.01721711,  0.1114671 , -0.07544132,  0.05401943, -0.07675583,\n",
       "          0.1960058 ],\n",
       "        [ 0.15859719, -0.02447802, -0.08564785, -0.07498336, -0.0054255 ,\n",
       "         -0.02525638],\n",
       "        [-0.00150776,  0.12157026, -0.02007886,  0.05680544, -0.05764136,\n",
       "          0.01590555]], dtype=float32),\n",
       " array([ 0.26824734, -0.29823148,  1.1078876 , -0.544239  , -0.3411305 ,\n",
       "        -0.3680084 ], dtype=float32)]"
      ]
     },
     "execution_count": 36,
     "metadata": {},
     "output_type": "execute_result"
    }
   ],
   "source": [
    "# print(natural_classifier._model.get_layer(name=\"conv_1\").input_shape,\n",
    "#       natural_classifier._model.get_layer(name=\"conv_1\").output_shape)\n",
    "# natural_classifier._model.get_layer(name=\"conv_1\").get_weights()\n",
    "# print(natural_classifier._model.get_layer(name=\"softmax_1\").input_shape,\n",
    "#       natural_classifier._model.get_layer(name=\"softmax_1\").output_shape)\n",
    "# natural_classifier._model.get_layer(name=\"softmax_1\").get_weights()"
   ]
  },
  {
   "cell_type": "code",
   "execution_count": 37,
   "metadata": {},
   "outputs": [
    {
     "data": {
      "image/png": "[encoded data removed]",
      "text/plain": [
       "<Figure size 432x230.4 with 3 Axes>"
      ]
     },
     "metadata": {
      "needs_background": "light"
     },
     "output_type": "display_data"
    }
   ],
   "source": [
    "import matplotlib.pyplot as plt\n",
    "\n",
    "fig = plt.figure(figsize=(6, 3.2))\n",
    "\n",
    "ax = fig.add_subplot(111)\n",
    "ax.set_title('colorMap')\n",
    "plt.imshow(natural_classifier._model.get_layer(name=\"softmax_1\").get_weights()[0])\n",
    "ax.set_aspect(1 / 100)\n",
    "\n",
    "cax = fig.add_axes([0.12, 0.1, 0.78, 0.8])\n",
    "cax.get_xaxis().set_visible(False)\n",
    "cax.get_yaxis().set_visible(False)\n",
    "cax.patch.set_alpha(0)\n",
    "cax.set_frame_on(False)\n",
    "plt.colorbar(orientation='vertical')\n",
    "plt.show()"
   ]
  },
  {
   "cell_type": "code",
   "execution_count": 173,
   "metadata": {
    "scrolled": false
   },
   "outputs": [
    {
     "name": "stdout",
     "output_type": "stream",
     "text": [
      "DNNClassifier model classifies ['MinMax(mini=12,maxi=15)' 'MinMax(mini=17,maxi=20)'\n",
      " 'MinMax(mini=2,maxi=5)' 'MinMax(mini=24,maxi=30)'\n",
      " 'MinMax(mini=37,maxi=50)' 'MinMax(mini=8,maxi=10)']\n",
      "Epoch 1/50\n",
      "600/600 [==============================] - 0s 404us/step - loss: 3.0381 - precision_38: 0.1388 - recall_38: 0.0970\n",
      "Epoch 2/50\n",
      "600/600 [==============================] - 0s 261us/step - loss: 1.8824 - precision_38: 0.1562 - recall_38: 0.0610\n",
      "Epoch 3/50\n",
      "600/600 [==============================] - 0s 259us/step - loss: 1.7974 - precision_38: 0.1565 - recall_38: 0.0364\n",
      "Epoch 4/50\n",
      "600/600 [==============================] - 0s 258us/step - loss: 1.7813 - precision_38: 0.1570 - recall_38: 0.0259\n",
      "Epoch 5/50\n",
      "600/600 [==============================] - 0s 271us/step - loss: 1.7926 - precision_38: 0.1587 - recall_38: 0.0204\n",
      "Epoch 6/50\n",
      "600/600 [==============================] - 0s 264us/step - loss: 1.7859 - precision_38: 0.1585 - recall_38: 0.0167\n",
      "Epoch 7/50\n",
      "600/600 [==============================] - 0s 250us/step - loss: 1.7879 - precision_38: 0.1585 - recall_38: 0.0141\n",
      "Epoch 8/50\n",
      "600/600 [==============================] - 0s 269us/step - loss: 1.7924 - precision_38: 0.1573 - recall_38: 0.0122\n",
      "Epoch 9/50\n",
      "600/600 [==============================] - 0s 262us/step - loss: 1.7847 - precision_38: 0.1567 - recall_38: 0.0108\n",
      "Epoch 10/50\n",
      "600/600 [==============================] - 0s 258us/step - loss: 1.7920 - precision_38: 0.1567 - recall_38: 0.0096\n",
      "Epoch 11/50\n",
      "600/600 [==============================] - 0s 276us/step - loss: 1.7817 - precision_38: 0.1567 - recall_38: 0.0087\n",
      "Epoch 12/50\n",
      "600/600 [==============================] - 0s 279us/step - loss: 1.7909 - precision_38: 0.1568 - recall_38: 0.0080\n",
      "Epoch 13/50\n",
      "600/600 [==============================] - 0s 285us/step - loss: 1.7815 - precision_38: 0.1577 - recall_38: 0.0075\n",
      "Epoch 14/50\n",
      "600/600 [==============================] - 0s 278us/step - loss: 1.7954 - precision_38: 0.1577 - recall_38: 0.0069\n",
      "Epoch 15/50\n",
      "600/600 [==============================] - 0s 269us/step - loss: 1.7683 - precision_38: 0.1577 - recall_38: 0.0064\n",
      "Epoch 16/50\n",
      "600/600 [==============================] - 0s 279us/step - loss: 1.7724 - precision_38: 0.1577 - recall_38: 0.0060\n",
      "Epoch 17/50\n",
      "600/600 [==============================] - 0s 273us/step - loss: 1.7794 - precision_38: 0.1577 - recall_38: 0.0057\n",
      "Epoch 18/50\n",
      "600/600 [==============================] - 0s 265us/step - loss: 1.7737 - precision_38: 0.1577 - recall_38: 0.0053\n",
      "Epoch 19/50\n",
      "600/600 [==============================] - 0s 256us/step - loss: 1.7809 - precision_38: 0.1577 - recall_38: 0.0050\n",
      "Epoch 20/50\n",
      "600/600 [==============================] - 0s 269us/step - loss: 1.7759 - precision_38: 0.1577 - recall_38: 0.0048\n",
      "Epoch 21/50\n",
      "600/600 [==============================] - 0s 279us/step - loss: 1.7667 - precision_38: 0.1581 - recall_38: 0.0046\n",
      "Epoch 22/50\n",
      "600/600 [==============================] - 0s 288us/step - loss: 1.7741 - precision_38: 0.1601 - recall_38: 0.0044\n",
      "Epoch 23/50\n",
      "600/600 [==============================] - 0s 275us/step - loss: 1.7473 - precision_38: 0.1602 - recall_38: 0.0042\n",
      "Epoch 24/50\n",
      "600/600 [==============================] - 0s 345us/step - loss: 1.7698 - precision_38: 0.1645 - recall_38: 0.0042\n",
      "Epoch 25/50\n",
      "600/600 [==============================] - 0s 310us/step - loss: 1.7405 - precision_38: 0.1648 - recall_38: 0.0040\n",
      "Epoch 26/50\n",
      "600/600 [==============================] - 0s 300us/step - loss: 1.7621 - precision_38: 0.1660 - recall_38: 0.0039\n",
      "Epoch 27/50\n",
      "600/600 [==============================] - 0s 349us/step - loss: 1.7841 - precision_38: 0.1688 - recall_38: 0.0039\n",
      "Epoch 28/50\n",
      "600/600 [==============================] - 0s 301us/step - loss: 1.7754 - precision_38: 0.1685 - recall_38: 0.0038\n",
      "Epoch 29/50\n",
      "600/600 [==============================] - 0s 314us/step - loss: 1.7850 - precision_38: 0.1685 - recall_38: 0.0036\n",
      "Epoch 30/50\n",
      "600/600 [==============================] - 0s 235us/step - loss: 1.7928 - precision_38: 0.1685 - recall_38: 0.0035\n",
      "Epoch 31/50\n",
      "600/600 [==============================] - 0s 245us/step - loss: 1.7924 - precision_38: 0.1685 - recall_38: 0.0034\n",
      "Epoch 32/50\n",
      "600/600 [==============================] - 0s 252us/step - loss: 1.7926 - precision_38: 0.1685 - recall_38: 0.0033\n",
      "Epoch 33/50\n",
      "600/600 [==============================] - 0s 260us/step - loss: 1.7920 - precision_38: 0.1685 - recall_38: 0.0032\n",
      "Epoch 34/50\n",
      "600/600 [==============================] - 0s 253us/step - loss: 1.7936 - precision_38: 0.1685 - recall_38: 0.0031\n",
      "Epoch 35/50\n",
      "600/600 [==============================] - 0s 256us/step - loss: 1.7922 - precision_38: 0.1685 - recall_38: 0.0030\n",
      "Epoch 36/50\n",
      "600/600 [==============================] - 0s 256us/step - loss: 1.7864 - precision_38: 0.1685 - recall_38: 0.0029\n",
      "Epoch 37/50\n",
      "600/600 [==============================] - 0s 261us/step - loss: 1.7732 - precision_38: 0.1685 - recall_38: 0.0028\n",
      "Epoch 38/50\n",
      "600/600 [==============================] - 0s 259us/step - loss: 1.7922 - precision_38: 0.1685 - recall_38: 0.0028\n",
      "Epoch 39/50\n",
      "600/600 [==============================] - 0s 319us/step - loss: 1.7924 - precision_38: 0.1685 - recall_38: 0.0027\n",
      "Epoch 40/50\n",
      "600/600 [==============================] - 0s 303us/step - loss: 1.7919 - precision_38: 0.1685 - recall_38: 0.0026\n",
      "Epoch 41/50\n",
      "600/600 [==============================] - 0s 268us/step - loss: 1.7923 - precision_38: 0.1685 - recall_38: 0.0026\n",
      "Epoch 42/50\n",
      "600/600 [==============================] - 0s 252us/step - loss: 1.7891 - precision_38: 0.1685 - recall_38: 0.0025\n",
      "Epoch 43/50\n",
      "600/600 [==============================] - 0s 247us/step - loss: 1.7892 - precision_38: 0.1685 - recall_38: 0.0024\n",
      "Epoch 44/50\n",
      "600/600 [==============================] - 0s 254us/step - loss: 1.7930 - precision_38: 0.1685 - recall_38: 0.0024\n",
      "Epoch 45/50\n",
      "600/600 [==============================] - 0s 261us/step - loss: 1.7922 - precision_38: 0.1685 - recall_38: 0.0023\n",
      "Epoch 46/50\n",
      "600/600 [==============================] - 0s 258us/step - loss: 1.7921 - precision_38: 0.1685 - recall_38: 0.0023\n",
      "Epoch 47/50\n",
      "600/600 [==============================] - 0s 258us/step - loss: 1.7922 - precision_38: 0.1685 - recall_38: 0.0022\n",
      "Epoch 48/50\n",
      "600/600 [==============================] - 0s 256us/step - loss: 1.7922 - precision_38: 0.1685 - recall_38: 0.0022\n",
      "Epoch 49/50\n",
      "600/600 [==============================] - 0s 262us/step - loss: 1.7921 - precision_38: 0.1685 - recall_38: 0.0021\n",
      "Epoch 50/50\n",
      "600/600 [==============================] - 0s 257us/step - loss: 1.7923 - precision_38: 0.1685 - recall_38: 0.0021\n",
      "Evaluation metrics: \n",
      "6000/6000 [==============================] - 0s 31us/step\n",
      "[1.7918116060892741, 0.1684781014919281, 0.0018826446030288935]\n",
      "Confusion matrix: \n",
      "[[  3  12   0   1 974  10]\n",
      " [  2  20   3   3 961  11]\n",
      " [  1  10   1   0 982   6]\n",
      " [  4  26   2   1 953  14]\n",
      " [ 10  41   2   6 912  29]\n",
      " [  4  14   3   2 971   6]]\n",
      "Classification report: \n",
      "                         precision    recall  f1-score   support\n",
      "\n",
      "MinMax(mini=12,maxi=15)     0.1250    0.0030    0.0059      1000\n",
      "MinMax(mini=17,maxi=20)     0.1626    0.0200    0.0356      1000\n",
      "  MinMax(mini=2,maxi=5)     0.0909    0.0010    0.0020      1000\n",
      "MinMax(mini=24,maxi=30)     0.0769    0.0010    0.0020      1000\n",
      "MinMax(mini=37,maxi=50)     0.1585    0.9120    0.2701      1000\n",
      " MinMax(mini=8,maxi=10)     0.0789    0.0060    0.0112      1000\n",
      "\n",
      "               accuracy                         0.1572      6000\n",
      "              macro avg     0.1155    0.1572    0.0544      6000\n",
      "           weighted avg     0.1155    0.1572    0.0544      6000\n",
      "\n",
      "Quantifier counts:  [ 67 195  49  70 469 150]\n",
      "NO SUPPORT\n"
     ]
    }
   ],
   "source": [
    "# unnatural_classifier = teach(CNNClassifier(unnatural_quantifiers), epochs=50, max_len=10)\n",
    "unnatural_classifier = DNNClassifier(unnatural_quantifiers).teach, epochs=50, max_len=100)"
   ]
  }
 ],
 "metadata": {
  "kernelspec": {
   "display_name": "Python 3",
   "language": "python",
   "name": "python3"
  },
  "language_info": {
   "codemirror_mode": {
    "name": "ipython",
    "version": 3
   },
   "file_extension": ".py",
   "mimetype": "text/x-python",
   "name": "python",
   "nbconvert_exporter": "python",
   "pygments_lexer": "ipython3",
   "version": "3.8.2"
  }
 },
 "nbformat": 4,
 "nbformat_minor": 4
}
