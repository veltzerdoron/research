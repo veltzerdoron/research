{
 "cells": [
  {
   "cell_type": "code",
   "execution_count": 1,
   "metadata": {},
   "outputs": [
    {
     "name": "stderr",
     "output_type": "stream",
     "text": [
      "/home/doron/git/research/RESEARCH/lib/python3.8/site-packages/gensim/similarities/__init__.py:15: UserWarning: The gensim.similarities.levenshtein submodule is disabled, because the optional Levenshtein package <https://pypi.org/project/python-Levenshtein/> is unavailable. Install Levenhstein (e.g. `pip install python-Levenshtein`) to suppress this warning.\n",
      "  warnings.warn(msg)\n"
     ]
    }
   ],
   "source": [
    "import numpy as np\n",
    "from itertools import chain, product\n",
    "import word2vec"
   ]
  },
  {
   "cell_type": "code",
   "execution_count": 2,
   "metadata": {},
   "outputs": [],
   "source": [
    "model = word2vec.getModel()"
   ]
  },
  {
   "cell_type": "code",
   "execution_count": 3,
   "metadata": {},
   "outputs": [],
   "source": [
    "hebrew = 'אבגדהוזחטיכלמנסעפצקרשתךםןףץ'\n",
    "\n",
    "GMatrix = {\"normal\": {c:v for c, v in zip(hebrew, \n",
    "                                          chain(range(1, 10),\n",
    "                                                range(10, 100, 10),\n",
    "                                                range(100, 500, 100),\n",
    "                                                [20, 40, 50, 80, 90])\n",
    "                                         )},\n",
    "           \"big\": {c:v for c, v in zip(hebrew, \n",
    "                                       chain(range(1, 10),\n",
    "                                             range(10, 100, 10),\n",
    "                                             range(100, 1000, 100))\n",
    "                                         )},\n",
    "           \"small\": {c:v for c, v in zip(hebrew, \n",
    "                                         chain(range(1, 10),\n",
    "                                               range(1, 10),\n",
    "                                               range(1, 10)))},\n",
    "           \"serial\": {c:v for c, v in zip(hebrew, \n",
    "                                          chain(range(1, 28)))},\n",
    "           \"etbesh\": {c:v for c, v in zip(hebrew, \n",
    "                                          chain(reversed(range(100, 500, 100)),\n",
    "                                                reversed(range(10, 100, 10)),\n",
    "                                                reversed(range(1, 10)),\n",
    "                                                [30, 10, 9, 7, 6])\n",
    "                                         )},\n",
    "          }\n",
    "\n",
    "GMatrix[\"forward\"] = {c:v for c, v in zip(hebrew, np.cumsum(list(GMatrix[\"normal\"].values())))}\n",
    "GMatrix[\"private\"] = {c:v for c, v in zip(hebrew, map(lambda x: x ** 2, GMatrix[\"normal\"].values()))}\n",
    "\n",
    "def hebrew_str(s):\n",
    "    return all(\"\\u0590\" <= c <= \"\\u05EA\" or c in \" ,.:;'[](){}\" for c in s)\n",
    "\n",
    "def GMatria(s, method=\"normal\"):\n",
    "    if not hebrew_str(s):\n",
    "        pass\n",
    "        # Non Hebrew letter encountered\n",
    "    return sum(GMatrix[method][c] for c in s if c in GMatrix[method])\n",
    "\n",
    "GMatrix[\"semite\"] = {c:v for c, v in zip(hebrew, [GMatria('אלף'),\n",
    "                                                  GMatria('בית'),\n",
    "                                                  GMatria('גמל'),\n",
    "                                                  GMatria('דלת'),\n",
    "                                                  GMatria('הא'),\n",
    "                                                  GMatria('ויו'),\n",
    "                                                  GMatria('זיין'),\n",
    "                                                  GMatria('חית'),\n",
    "                                                  GMatria('טית'),\n",
    "                                                  GMatria('יוד'),\n",
    "                                                  GMatria('כף'),\n",
    "                                                  GMatria('למד'),\n",
    "                                                  GMatria('מם'),\n",
    "                                                  GMatria('נון'),\n",
    "                                                  GMatria('סמך'),\n",
    "                                                  GMatria('עין'),\n",
    "                                                  GMatria('פא'),\n",
    "                                                  GMatria('צדי'),\n",
    "                                                  GMatria('קוף'),\n",
    "                                                  GMatria('ריש'),\n",
    "                                                  GMatria('תיו'),\n",
    "                                                  GMatria('כף'),\n",
    "                                                  GMatria('מם'),\n",
    "                                                  GMatria('נון'),\n",
    "                                                  GMatria('פא'),\n",
    "                                                  GMatria('צדי')])}\n",
    "\n",
    "def embedding(s):\n",
    "    return sum([model.wv[word] for word in s.split(' ')])"
   ]
  },
  {
   "cell_type": "code",
   "execution_count": 4,
   "metadata": {},
   "outputs": [
    {
     "data": {
      "text/plain": [
       "559687"
      ]
     },
     "execution_count": 4,
     "metadata": {},
     "output_type": "execute_result"
    }
   ],
   "source": [
    "# words in vocabulary\n",
    "len(model.wv.index_to_key)"
   ]
  },
  {
   "cell_type": "code",
   "execution_count": 5,
   "metadata": {},
   "outputs": [],
   "source": [
    "wv = [(word, model.wv[word], GMatria(word)) for  word in model.wv.index_to_key if hebrew_str(word)]"
   ]
  },
  {
   "cell_type": "code",
   "execution_count": 6,
   "metadata": {},
   "outputs": [],
   "source": [
    "gwv = {g:[(w[0], w[1]) for w in wv if w[2] == g] for g in set([w[2] for w in wv])}"
   ]
  },
  {
   "cell_type": "code",
   "execution_count": 7,
   "metadata": {},
   "outputs": [
    {
     "data": {
      "text/plain": [
       "['מרגלית', 'שניאורסון']"
      ]
     },
     "execution_count": 7,
     "metadata": {},
     "output_type": "execute_result"
    }
   ],
   "source": [
    "def solve_words(s, search=100000, top=2):\n",
    "    return [w for w, _ in model.wv.most_similar(positive=s.split(), topn=search)[:search][:search]\n",
    "            if GMatria(s) == GMatria(w) and hebrew_str(w)][:top]\n",
    "\n",
    "solve_words('בנימין נתניהו')"
   ]
  },
  {
   "cell_type": "markdown",
   "metadata": {},
   "source": [
    "### Perfect sum"
   ]
  },
  {
   "cell_type": "code",
   "execution_count": 8,
   "metadata": {},
   "outputs": [],
   "source": [
    "from collections import namedtuple\n",
    "# This is a doubly linked list.\n",
    "# (value, tail) will be one group of solutions.  (next_answer) is another.\n",
    "SumPath = namedtuple('SumPath', 'value tail next_answer')\n",
    "\n",
    "def fixed_sum_paths (array, target, count):\n",
    "    # First find counts of values to handle duplications.\n",
    "    value_repeats = {}\n",
    "    for value in array:\n",
    "        if value in value_repeats:\n",
    "            value_repeats[value] += 1\n",
    "        else:\n",
    "            value_repeats[value] = 1\n",
    "\n",
    "    # paths[depth][x] will be all subsets of size depth that sum to x.\n",
    "    paths = [{} for i in range(count+1)]\n",
    "\n",
    "    # First we add the empty set.\n",
    "    paths[0][0] = SumPath(value=None, tail=None, next_answer=None)\n",
    "\n",
    "    # Now we start adding values to it.\n",
    "    for value, repeats in value_repeats.items():\n",
    "        # Reversed depth avoids seeing paths we will find using this value.\n",
    "        for depth in reversed(range(len(paths))):\n",
    "            for result, path in paths[depth].items():\n",
    "                for i in range(1, repeats+1):\n",
    "                    if count < i + depth:\n",
    "                        # Do not fill in too deep.\n",
    "                        break\n",
    "                    result += value\n",
    "                    if result in paths[depth+i]:\n",
    "                        path = SumPath(\n",
    "                            value=value,\n",
    "                            tail=path,\n",
    "                            next_answer=paths[depth+i][result]\n",
    "                            )\n",
    "                    else:\n",
    "                        path = SumPath(\n",
    "                            value=value,\n",
    "                            tail=path,\n",
    "                            next_answer=None\n",
    "                            )\n",
    "                    paths[depth+i][result] = path\n",
    "\n",
    "                    # Subtle bug fix, a path for value, value\n",
    "                    # should not lead to value, other_value because\n",
    "                    # we already inserted that first.\n",
    "                    path = SumPath(\n",
    "                        value=value,\n",
    "                        tail=path.tail,\n",
    "                        next_answer=None\n",
    "                        )\n",
    "    return paths[count][target]\n",
    "\n",
    "def path_iter(paths):\n",
    "    if paths.value is None:\n",
    "        # We are the tail\n",
    "        yield []\n",
    "    else:\n",
    "        while paths is not None:\n",
    "            value = paths.value\n",
    "            for answer in path_iter(paths.tail):\n",
    "                answer.append(value)\n",
    "                yield answer\n",
    "            paths = paths.next_answer\n",
    "\n",
    "def fixed_sums(array, target, count):\n",
    "    paths = fixed_sum_paths(array, target, count)\n",
    "    return path_iter(paths)\n",
    "\n",
    "# example\n",
    "# for path in fixed_sums([1,2,3,3,4,5,6,9], 10, 3):\n",
    "#     print(path)"
   ]
  },
  {
   "cell_type": "markdown",
   "metadata": {},
   "source": [
    "### Use perfect sum for GMatrix"
   ]
  },
  {
   "cell_type": "code",
   "execution_count": 9,
   "metadata": {},
   "outputs": [],
   "source": [
    "def cosine_sim(e1,e2):\n",
    "    return np.dot(e1, e2)/(np.linalg.norm(e1) * np.linalg.norm(e2))"
   ]
  },
  {
   "cell_type": "code",
   "execution_count": 17,
   "metadata": {},
   "outputs": [],
   "source": [
    "import tqdm\n",
    "def solve_word_pairs(s, top=15):\n",
    "    e = embedding(s)\n",
    "    g = GMatria(s)\n",
    "    \n",
    "    sentenceses = []\n",
    "    distanceses = []\n",
    "    for path in tqdm.tqdm(list(fixed_sums(gwv.keys(), g, 2))):\n",
    "        sentences = [' '.join([w1[0], w2[0]]) for w1 in gwv[path[0]] for w2 in gwv[path[1]]]\n",
    "        embeddings=[w1[1] + w2[1] for w1 in gwv[path[0]] for w2 in gwv[path[1]]]\n",
    "        distances = [cosine_sim(embededing,e) for embededing in embeddings]\n",
    "        distances, sentences = (list(t) for t in zip(*sorted(zip(distances, sentences), reverse=True)))\n",
    "        sentenceses.extend(sentences[:top])\n",
    "        distanceses.extend(distances[:top])\n",
    "    distanceses, sentenceses = (list(t) for t in zip(*sorted(zip(distanceses, sentenceses), reverse=True)))\n",
    "    print(list(zip(distanceses[:top], sentenceses[:top])))"
   ]
  },
  {
   "cell_type": "code",
   "execution_count": 18,
   "metadata": {},
   "outputs": [
    {
     "name": "stderr",
     "output_type": "stream",
     "text": [
      "100%|██████████| 401/401 [20:11<00:00,  3.02s/it]"
     ]
    },
    {
     "name": "stdout",
     "output_type": "stream",
     "text": [
      "[(1.0, 'פרס שמעון'), (0.88701814, 'פרס ויספיש'), (0.87684643, 'פרס ומרידור'), (0.8762464, 'פרס ודותן'), (0.8724531, 'פרס ויתילדו')]\n"
     ]
    },
    {
     "name": "stderr",
     "output_type": "stream",
     "text": [
      "\n"
     ]
    }
   ],
   "source": [
    "solve_word_pairs('שמעון פרס')"
   ]
  },
  {
   "cell_type": "code",
   "execution_count": 95,
   "metadata": {},
   "outputs": [],
   "source": [
    "def solve_word_lists(s, top=15, n=2):\n",
    "    e = embedding(s)\n",
    "    g = GMatria(s)\n",
    "    \n",
    "    sentenceses = []\n",
    "    distanceses = []\n",
    "    for path in tqdm.tqdm(list(fixed_sums(gwv.keys(), g, n))):\n",
    "        sentences = [' '.join([x[0] for x in w]) for w in list(product(*[gwv[g] for g in path]))]\n",
    "        embeddings = [sum([x[1] for x in w]) for w in list(product(*[gwv[g] for g in path]))]\n",
    "        distances = [cosine_sim(embededing,e) for embededing in embeddings]\n",
    "        distances, sentences = (list(t) for t in zip(*sorted(zip(distances, sentences), reverse=True)))\n",
    "        sentenceses.extend(sentences[:top])\n",
    "        distanceses.extend(distances[:top])\n",
    "    distanceses, sentenceses = (list(t) for t in zip(*sorted(zip(distanceses, sentenceses), reverse=True)))\n",
    "    print(list(zip(distanceses[:top], sentenceses[:top])))"
   ]
  },
  {
   "cell_type": "code",
   "execution_count": null,
   "metadata": {},
   "outputs": [
    {
     "name": "stderr",
     "output_type": "stream",
     "text": [
      " 42%|████▏     | 168/401 [05:14<10:01,  2.58s/it]"
     ]
    }
   ],
   "source": [
    "solve_word_lists('שמעון פרס')"
   ]
  },
  {
   "cell_type": "code",
   "execution_count": 21,
   "metadata": {},
   "outputs": [],
   "source": [
    "s = 'שמעון פרס'\n",
    "e = embedding(s)\n",
    "g = GMatria(s)\n",
    "\n",
    "paths = list(fixed_sums(gwv.keys(), g, 2))"
   ]
  },
  {
   "cell_type": "code",
   "execution_count": 86,
   "metadata": {},
   "outputs": [],
   "source": [
    "a = [list(ws) for ws in product(*[gwv[g] for g in paths[0]])]"
   ]
  },
  {
   "cell_type": "code",
   "execution_count": 89,
   "metadata": {},
   "outputs": [
    {
     "ename": "KeyboardInterrupt",
     "evalue": "",
     "output_type": "error",
     "traceback": [
      "\u001b[0;31m---------------------------------------------------------------------------\u001b[0m",
      "\u001b[0;31mKeyboardInterrupt\u001b[0m                         Traceback (most recent call last)",
      "\u001b[0;32m<ipython-input-89-e513e70db095>\u001b[0m in \u001b[0;36m<module>\u001b[0;34m\u001b[0m\n\u001b[0;32m----> 1\u001b[0;31m \u001b[0;34m[\u001b[0m\u001b[0;34m[\u001b[0m\u001b[0;34m' '\u001b[0m\u001b[0;34m.\u001b[0m\u001b[0mjoin\u001b[0m\u001b[0;34m(\u001b[0m\u001b[0;34m[\u001b[0m\u001b[0mx\u001b[0m\u001b[0;34m[\u001b[0m\u001b[0;36m0\u001b[0m\u001b[0;34m]\u001b[0m \u001b[0;32mfor\u001b[0m \u001b[0mx\u001b[0m \u001b[0;32min\u001b[0m \u001b[0mw\u001b[0m\u001b[0;34m]\u001b[0m\u001b[0;34m)\u001b[0m \u001b[0;32mfor\u001b[0m \u001b[0mw\u001b[0m \u001b[0;32min\u001b[0m \u001b[0mlist\u001b[0m\u001b[0;34m(\u001b[0m\u001b[0mproduct\u001b[0m\u001b[0;34m(\u001b[0m\u001b[0;34m*\u001b[0m\u001b[0;34m[\u001b[0m\u001b[0mgwv\u001b[0m\u001b[0;34m[\u001b[0m\u001b[0mg\u001b[0m\u001b[0;34m]\u001b[0m \u001b[0;32mfor\u001b[0m \u001b[0mg\u001b[0m \u001b[0;32min\u001b[0m \u001b[0mpath\u001b[0m\u001b[0;34m]\u001b[0m\u001b[0;34m)\u001b[0m\u001b[0;34m)\u001b[0m\u001b[0;34m]\u001b[0m \u001b[0;32mfor\u001b[0m \u001b[0mpath\u001b[0m \u001b[0;32min\u001b[0m \u001b[0mpaths\u001b[0m\u001b[0;34m]\u001b[0m\u001b[0;34m\u001b[0m\u001b[0;34m\u001b[0m\u001b[0m\n\u001b[0m",
      "\u001b[0;32m<ipython-input-89-e513e70db095>\u001b[0m in \u001b[0;36m<listcomp>\u001b[0;34m(.0)\u001b[0m\n\u001b[0;32m----> 1\u001b[0;31m \u001b[0;34m[\u001b[0m\u001b[0;34m[\u001b[0m\u001b[0;34m' '\u001b[0m\u001b[0;34m.\u001b[0m\u001b[0mjoin\u001b[0m\u001b[0;34m(\u001b[0m\u001b[0;34m[\u001b[0m\u001b[0mx\u001b[0m\u001b[0;34m[\u001b[0m\u001b[0;36m0\u001b[0m\u001b[0;34m]\u001b[0m \u001b[0;32mfor\u001b[0m \u001b[0mx\u001b[0m \u001b[0;32min\u001b[0m \u001b[0mw\u001b[0m\u001b[0;34m]\u001b[0m\u001b[0;34m)\u001b[0m \u001b[0;32mfor\u001b[0m \u001b[0mw\u001b[0m \u001b[0;32min\u001b[0m \u001b[0mlist\u001b[0m\u001b[0;34m(\u001b[0m\u001b[0mproduct\u001b[0m\u001b[0;34m(\u001b[0m\u001b[0;34m*\u001b[0m\u001b[0;34m[\u001b[0m\u001b[0mgwv\u001b[0m\u001b[0;34m[\u001b[0m\u001b[0mg\u001b[0m\u001b[0;34m]\u001b[0m \u001b[0;32mfor\u001b[0m \u001b[0mg\u001b[0m \u001b[0;32min\u001b[0m \u001b[0mpath\u001b[0m\u001b[0;34m]\u001b[0m\u001b[0;34m)\u001b[0m\u001b[0;34m)\u001b[0m\u001b[0;34m]\u001b[0m \u001b[0;32mfor\u001b[0m \u001b[0mpath\u001b[0m \u001b[0;32min\u001b[0m \u001b[0mpaths\u001b[0m\u001b[0;34m]\u001b[0m\u001b[0;34m\u001b[0m\u001b[0;34m\u001b[0m\u001b[0m\n\u001b[0m",
      "\u001b[0;32m<ipython-input-89-e513e70db095>\u001b[0m in \u001b[0;36m<listcomp>\u001b[0;34m(.0)\u001b[0m\n\u001b[0;32m----> 1\u001b[0;31m \u001b[0;34m[\u001b[0m\u001b[0;34m[\u001b[0m\u001b[0;34m' '\u001b[0m\u001b[0;34m.\u001b[0m\u001b[0mjoin\u001b[0m\u001b[0;34m(\u001b[0m\u001b[0;34m[\u001b[0m\u001b[0mx\u001b[0m\u001b[0;34m[\u001b[0m\u001b[0;36m0\u001b[0m\u001b[0;34m]\u001b[0m \u001b[0;32mfor\u001b[0m \u001b[0mx\u001b[0m \u001b[0;32min\u001b[0m \u001b[0mw\u001b[0m\u001b[0;34m]\u001b[0m\u001b[0;34m)\u001b[0m \u001b[0;32mfor\u001b[0m \u001b[0mw\u001b[0m \u001b[0;32min\u001b[0m \u001b[0mlist\u001b[0m\u001b[0;34m(\u001b[0m\u001b[0mproduct\u001b[0m\u001b[0;34m(\u001b[0m\u001b[0;34m*\u001b[0m\u001b[0;34m[\u001b[0m\u001b[0mgwv\u001b[0m\u001b[0;34m[\u001b[0m\u001b[0mg\u001b[0m\u001b[0;34m]\u001b[0m \u001b[0;32mfor\u001b[0m \u001b[0mg\u001b[0m \u001b[0;32min\u001b[0m \u001b[0mpath\u001b[0m\u001b[0;34m]\u001b[0m\u001b[0;34m)\u001b[0m\u001b[0;34m)\u001b[0m\u001b[0;34m]\u001b[0m \u001b[0;32mfor\u001b[0m \u001b[0mpath\u001b[0m \u001b[0;32min\u001b[0m \u001b[0mpaths\u001b[0m\u001b[0;34m]\u001b[0m\u001b[0;34m\u001b[0m\u001b[0;34m\u001b[0m\u001b[0m\n\u001b[0m",
      "\u001b[0;31mKeyboardInterrupt\u001b[0m: "
     ]
    }
   ],
   "source": [
    "[[' '.join([x[0] for x in w]) for w in list(product(*[gwv[g] for g in path]))] for path in paths] "
   ]
  },
  {
   "cell_type": "code",
   "execution_count": 83,
   "metadata": {},
   "outputs": [
    {
     "ename": "TypeError",
     "evalue": "sequence item 1: expected str instance, numpy.float32 found",
     "output_type": "error",
     "traceback": [
      "\u001b[0;31m---------------------------------------------------------------------------\u001b[0m",
      "\u001b[0;31mTypeError\u001b[0m                                 Traceback (most recent call last)",
      "\u001b[0;32m<ipython-input-83-ef1071c3c392>\u001b[0m in \u001b[0;36m<module>\u001b[0;34m\u001b[0m\n\u001b[1;32m      1\u001b[0m \u001b[0mpath\u001b[0m \u001b[0;34m=\u001b[0m \u001b[0mpaths\u001b[0m\u001b[0;34m[\u001b[0m\u001b[0;36m0\u001b[0m\u001b[0;34m]\u001b[0m\u001b[0;34m\u001b[0m\u001b[0;34m\u001b[0m\u001b[0m\n\u001b[0;32m----> 2\u001b[0;31m \u001b[0;34m[\u001b[0m\u001b[0;34m' '\u001b[0m\u001b[0;34m.\u001b[0m\u001b[0mjoin\u001b[0m\u001b[0;34m(\u001b[0m\u001b[0;34m[\u001b[0m\u001b[0mm\u001b[0m\u001b[0;34m[\u001b[0m\u001b[0;36m0\u001b[0m\u001b[0;34m]\u001b[0m \u001b[0;32mfor\u001b[0m \u001b[0mw\u001b[0m \u001b[0;32min\u001b[0m \u001b[0mlist\u001b[0m\u001b[0;34m(\u001b[0m\u001b[0mws\u001b[0m\u001b[0;34m)\u001b[0m \u001b[0;32mfor\u001b[0m \u001b[0mm\u001b[0m \u001b[0;32min\u001b[0m \u001b[0mw\u001b[0m\u001b[0;34m]\u001b[0m\u001b[0;34m)\u001b[0m \u001b[0;32mfor\u001b[0m \u001b[0mws\u001b[0m \u001b[0;32min\u001b[0m \u001b[0mproduct\u001b[0m\u001b[0;34m(\u001b[0m\u001b[0;34m*\u001b[0m\u001b[0;34m[\u001b[0m\u001b[0mgwv\u001b[0m\u001b[0;34m[\u001b[0m\u001b[0mg\u001b[0m\u001b[0;34m]\u001b[0m \u001b[0;32mfor\u001b[0m \u001b[0mg\u001b[0m \u001b[0;32min\u001b[0m \u001b[0mpath\u001b[0m\u001b[0;34m]\u001b[0m\u001b[0;34m)\u001b[0m\u001b[0;34m]\u001b[0m\u001b[0;34m\u001b[0m\u001b[0;34m\u001b[0m\u001b[0m\n\u001b[0m",
      "\u001b[0;32m<ipython-input-83-ef1071c3c392>\u001b[0m in \u001b[0;36m<listcomp>\u001b[0;34m(.0)\u001b[0m\n\u001b[1;32m      1\u001b[0m \u001b[0mpath\u001b[0m \u001b[0;34m=\u001b[0m \u001b[0mpaths\u001b[0m\u001b[0;34m[\u001b[0m\u001b[0;36m0\u001b[0m\u001b[0;34m]\u001b[0m\u001b[0;34m\u001b[0m\u001b[0;34m\u001b[0m\u001b[0m\n\u001b[0;32m----> 2\u001b[0;31m \u001b[0;34m[\u001b[0m\u001b[0;34m' '\u001b[0m\u001b[0;34m.\u001b[0m\u001b[0mjoin\u001b[0m\u001b[0;34m(\u001b[0m\u001b[0;34m[\u001b[0m\u001b[0mm\u001b[0m\u001b[0;34m[\u001b[0m\u001b[0;36m0\u001b[0m\u001b[0;34m]\u001b[0m \u001b[0;32mfor\u001b[0m \u001b[0mw\u001b[0m \u001b[0;32min\u001b[0m \u001b[0mlist\u001b[0m\u001b[0;34m(\u001b[0m\u001b[0mws\u001b[0m\u001b[0;34m)\u001b[0m \u001b[0;32mfor\u001b[0m \u001b[0mm\u001b[0m \u001b[0;32min\u001b[0m \u001b[0mw\u001b[0m\u001b[0;34m]\u001b[0m\u001b[0;34m)\u001b[0m \u001b[0;32mfor\u001b[0m \u001b[0mws\u001b[0m \u001b[0;32min\u001b[0m \u001b[0mproduct\u001b[0m\u001b[0;34m(\u001b[0m\u001b[0;34m*\u001b[0m\u001b[0;34m[\u001b[0m\u001b[0mgwv\u001b[0m\u001b[0;34m[\u001b[0m\u001b[0mg\u001b[0m\u001b[0;34m]\u001b[0m \u001b[0;32mfor\u001b[0m \u001b[0mg\u001b[0m \u001b[0;32min\u001b[0m \u001b[0mpath\u001b[0m\u001b[0;34m]\u001b[0m\u001b[0;34m)\u001b[0m\u001b[0;34m]\u001b[0m\u001b[0;34m\u001b[0m\u001b[0;34m\u001b[0m\u001b[0m\n\u001b[0m",
      "\u001b[0;31mTypeError\u001b[0m: sequence item 1: expected str instance, numpy.float32 found"
     ]
    }
   ],
   "source": [
    "path = paths[0]\n",
    "[' '.join([m[0] for w in list(ws) for m in w]) for ws in product(*[gwv[g] for g in path])] "
   ]
  },
  {
   "cell_type": "code",
   "execution_count": 67,
   "metadata": {},
   "outputs": [
    {
     "data": {
      "text/plain": [
       "(('אא',\n",
       "  array([-0.02018585,  0.0450373 , -0.13733631, -0.07905271, -0.04696308,\n",
       "         -0.02823014, -0.14744899,  0.22046283,  0.1711357 ,  0.0162007 ,\n",
       "          0.04333334, -0.01051869, -0.07794161,  0.17227547,  0.21878876,\n",
       "         -0.03079641,  0.15786213, -0.02208425,  0.06877608, -0.06593809,\n",
       "          0.12817593,  0.02265123, -0.15647903,  0.04874207,  0.00206851,\n",
       "         -0.00242314,  0.03758171,  0.01604735, -0.07077962,  0.10401662,\n",
       "          0.02063344, -0.04853552,  0.00691962, -0.01489432, -0.11872116,\n",
       "          0.02457944,  0.06885709, -0.00908786, -0.03101856,  0.04112574,\n",
       "          0.04595832, -0.13938701, -0.08017936,  0.05028337,  0.18043405,\n",
       "          0.01164006, -0.05166569, -0.14200662,  0.07951269,  0.23882549,\n",
       "         -0.06322876,  0.0117099 ,  0.03553892, -0.08741646,  0.05546534,\n",
       "         -0.01098728, -0.12619972,  0.08050238,  0.1477471 ,  0.00733709,\n",
       "         -0.03581674, -0.00521502,  0.09387129,  0.1649713 , -0.21663246,\n",
       "          0.09370904, -0.01258367,  0.1420212 , -0.02216198,  0.0618055 ,\n",
       "         -0.06638982, -0.05523426, -0.04522657, -0.12197997,  0.01699402,\n",
       "         -0.09910806,  0.15434353,  0.08375548, -0.17029582,  0.10946976,\n",
       "         -0.20698088, -0.0606018 , -0.0555851 , -0.07651079,  0.07096273,\n",
       "          0.04512819,  0.15115835,  0.09841401, -0.09471669,  0.03384142,\n",
       "          0.20756547,  0.03418747,  0.2393443 , -0.0242979 ,  0.06314099,\n",
       "         -0.01395335,  0.01882436,  0.10177118,  0.04487543,  0.06196877],\n",
       "        dtype=float32)),\n",
       " ('חופשית',\n",
       "  array([-0.08871432,  0.12948757,  0.01804421, -0.02458445,  0.05946067,\n",
       "          0.08899823,  0.01780716,  0.20600677, -0.11390004, -0.11583337,\n",
       "         -0.03442575, -0.0537815 ,  0.06923436,  0.01820631,  0.1311871 ,\n",
       "          0.1490958 ,  0.08849829, -0.07413138, -0.03762297, -0.09163258,\n",
       "          0.20498611,  0.03101518,  0.06811106, -0.06363403,  0.03640208,\n",
       "         -0.02657111, -0.21912149, -0.02814826,  0.07446472, -0.05760952,\n",
       "          0.13886623, -0.03172544, -0.02202435, -0.051674  ,  0.10625179,\n",
       "         -0.14271478,  0.07222893,  0.13615493,  0.03228251,  0.07909939,\n",
       "         -0.06841091, -0.08817627,  0.08936878, -0.02434462,  0.12696415,\n",
       "          0.0958501 , -0.22969824, -0.03805146,  0.11562636,  0.09908652,\n",
       "          0.01409394, -0.03776699,  0.03138677, -0.1038699 ,  0.07130536,\n",
       "          0.03090138, -0.03473252,  0.0671365 , -0.11384511, -0.08965181,\n",
       "         -0.06557074, -0.16933163,  0.19214204,  0.08328389, -0.150614  ,\n",
       "          0.05515935,  0.01572833, -0.00588075, -0.09172524,  0.2007518 ,\n",
       "          0.23779127,  0.06903121,  0.02202871, -0.09950341, -0.01759521,\n",
       "         -0.05618941,  0.11955932,  0.13829702,  0.07015412, -0.05077248,\n",
       "         -0.11317654,  0.12389261, -0.05241277, -0.04690749,  0.09730396,\n",
       "          0.17370062,  0.00934363, -0.0157158 ,  0.07349709,  0.00081683,\n",
       "          0.04871038, -0.22855024, -0.06917334, -0.04651548,  0.13037042,\n",
       "          0.01886373,  0.06868342, -0.13270399,  0.04195948,  0.07428284],\n",
       "        dtype=float32)))"
      ]
     },
     "execution_count": 67,
     "metadata": {},
     "output_type": "execute_result"
    }
   ],
   "source": [
    "[ws for ws in product(*[gwv[g] for g in paths[0]])][0]"
   ]
  },
  {
   "cell_type": "code",
   "execution_count": 68,
   "metadata": {},
   "outputs": [
    {
     "ename": "TypeError",
     "evalue": "sequence item 0: expected str instance, list found",
     "output_type": "error",
     "traceback": [
      "\u001b[0;31m---------------------------------------------------------------------------\u001b[0m",
      "\u001b[0;31mTypeError\u001b[0m                                 Traceback (most recent call last)",
      "\u001b[0;32m<ipython-input-68-0c1da30da6d3>\u001b[0m in \u001b[0;36m<module>\u001b[0;34m\u001b[0m\n\u001b[0;32m----> 1\u001b[0;31m \u001b[0msentences\u001b[0m \u001b[0;34m=\u001b[0m \u001b[0;34m[\u001b[0m\u001b[0;34m' '\u001b[0m\u001b[0;34m.\u001b[0m\u001b[0mjoin\u001b[0m\u001b[0;34m(\u001b[0m\u001b[0;34m[\u001b[0m\u001b[0mlist\u001b[0m\u001b[0;34m(\u001b[0m\u001b[0mw\u001b[0m\u001b[0;34m[\u001b[0m\u001b[0;36m0\u001b[0m\u001b[0;34m]\u001b[0m\u001b[0;34m)\u001b[0m \u001b[0;32mfor\u001b[0m \u001b[0mw\u001b[0m \u001b[0;32min\u001b[0m \u001b[0mlist\u001b[0m\u001b[0;34m(\u001b[0m\u001b[0mws\u001b[0m\u001b[0;34m)\u001b[0m\u001b[0;34m]\u001b[0m\u001b[0;34m)\u001b[0m \u001b[0;32mfor\u001b[0m \u001b[0mws\u001b[0m \u001b[0;32min\u001b[0m \u001b[0mproduct\u001b[0m\u001b[0;34m(\u001b[0m\u001b[0;34m*\u001b[0m\u001b[0;34m[\u001b[0m\u001b[0mgwv\u001b[0m\u001b[0;34m[\u001b[0m\u001b[0mg\u001b[0m\u001b[0;34m]\u001b[0m \u001b[0;32mfor\u001b[0m \u001b[0mg\u001b[0m \u001b[0;32min\u001b[0m \u001b[0mpaths\u001b[0m\u001b[0;34m[\u001b[0m\u001b[0;36m0\u001b[0m\u001b[0;34m]\u001b[0m\u001b[0;34m]\u001b[0m\u001b[0;34m)\u001b[0m\u001b[0;34m]\u001b[0m\u001b[0;34m\u001b[0m\u001b[0;34m\u001b[0m\u001b[0m\n\u001b[0m\u001b[1;32m      2\u001b[0m \u001b[0;31m#     embeddings = [sum([w[1] for w in ws]) for ws in product([gwv[g] for g in path])]\u001b[0m\u001b[0;34m\u001b[0m\u001b[0;34m\u001b[0m\u001b[0;34m\u001b[0m\u001b[0m\n\u001b[1;32m      3\u001b[0m \u001b[0;31m#     distances = [cosine_sim(embededing,e) for embededing in embeddings]\u001b[0m\u001b[0;34m\u001b[0m\u001b[0;34m\u001b[0m\u001b[0;34m\u001b[0m\u001b[0m\n\u001b[1;32m      4\u001b[0m \u001b[0;31m#     distances, sentences = (list(t) for t in zip(*sorted(zip(distances, sentences), reverse=True)))\u001b[0m\u001b[0;34m\u001b[0m\u001b[0;34m\u001b[0m\u001b[0;34m\u001b[0m\u001b[0m\n\u001b[1;32m      5\u001b[0m \u001b[0;31m#     print(distances[:1], sentences[:1])\u001b[0m\u001b[0;34m\u001b[0m\u001b[0;34m\u001b[0m\u001b[0;34m\u001b[0m\u001b[0m\n",
      "\u001b[0;32m<ipython-input-68-0c1da30da6d3>\u001b[0m in \u001b[0;36m<listcomp>\u001b[0;34m(.0)\u001b[0m\n\u001b[0;32m----> 1\u001b[0;31m \u001b[0msentences\u001b[0m \u001b[0;34m=\u001b[0m \u001b[0;34m[\u001b[0m\u001b[0;34m' '\u001b[0m\u001b[0;34m.\u001b[0m\u001b[0mjoin\u001b[0m\u001b[0;34m(\u001b[0m\u001b[0;34m[\u001b[0m\u001b[0mlist\u001b[0m\u001b[0;34m(\u001b[0m\u001b[0mw\u001b[0m\u001b[0;34m[\u001b[0m\u001b[0;36m0\u001b[0m\u001b[0;34m]\u001b[0m\u001b[0;34m)\u001b[0m \u001b[0;32mfor\u001b[0m \u001b[0mw\u001b[0m \u001b[0;32min\u001b[0m \u001b[0mlist\u001b[0m\u001b[0;34m(\u001b[0m\u001b[0mws\u001b[0m\u001b[0;34m)\u001b[0m\u001b[0;34m]\u001b[0m\u001b[0;34m)\u001b[0m \u001b[0;32mfor\u001b[0m \u001b[0mws\u001b[0m \u001b[0;32min\u001b[0m \u001b[0mproduct\u001b[0m\u001b[0;34m(\u001b[0m\u001b[0;34m*\u001b[0m\u001b[0;34m[\u001b[0m\u001b[0mgwv\u001b[0m\u001b[0;34m[\u001b[0m\u001b[0mg\u001b[0m\u001b[0;34m]\u001b[0m \u001b[0;32mfor\u001b[0m \u001b[0mg\u001b[0m \u001b[0;32min\u001b[0m \u001b[0mpaths\u001b[0m\u001b[0;34m[\u001b[0m\u001b[0;36m0\u001b[0m\u001b[0;34m]\u001b[0m\u001b[0;34m]\u001b[0m\u001b[0;34m)\u001b[0m\u001b[0;34m]\u001b[0m\u001b[0;34m\u001b[0m\u001b[0;34m\u001b[0m\u001b[0m\n\u001b[0m\u001b[1;32m      2\u001b[0m \u001b[0;31m#     embeddings = [sum([w[1] for w in ws]) for ws in product([gwv[g] for g in path])]\u001b[0m\u001b[0;34m\u001b[0m\u001b[0;34m\u001b[0m\u001b[0;34m\u001b[0m\u001b[0m\n\u001b[1;32m      3\u001b[0m \u001b[0;31m#     distances = [cosine_sim(embededing,e) for embededing in embeddings]\u001b[0m\u001b[0;34m\u001b[0m\u001b[0;34m\u001b[0m\u001b[0;34m\u001b[0m\u001b[0m\n\u001b[1;32m      4\u001b[0m \u001b[0;31m#     distances, sentences = (list(t) for t in zip(*sorted(zip(distances, sentences), reverse=True)))\u001b[0m\u001b[0;34m\u001b[0m\u001b[0;34m\u001b[0m\u001b[0;34m\u001b[0m\u001b[0m\n\u001b[1;32m      5\u001b[0m \u001b[0;31m#     print(distances[:1], sentences[:1])\u001b[0m\u001b[0;34m\u001b[0m\u001b[0;34m\u001b[0m\u001b[0;34m\u001b[0m\u001b[0m\n",
      "\u001b[0;31mTypeError\u001b[0m: sequence item 0: expected str instance, list found"
     ]
    }
   ],
   "source": [
    "sentences = [' '.join([list(w[0]) for w in list(ws)]) for ws in product(*[gwv[g] for g in paths[0]])]\n",
    "#     embeddings = [sum([w[1] for w in ws]) for ws in product([gwv[g] for g in path])]\n",
    "#     distances = [cosine_sim(embededing,e) for embededing in embeddings]\n",
    "#     distances, sentences = (list(t) for t in zip(*sorted(zip(distances, sentences), reverse=True)))\n",
    "#     print(distances[:1], sentences[:1])"
   ]
  },
  {
   "cell_type": "code",
   "execution_count": null,
   "metadata": {},
   "outputs": [],
   "source": []
  }
 ],
 "metadata": {
  "kernelspec": {
   "display_name": "Python 3",
   "language": "python",
   "name": "python3"
  },
  "language_info": {
   "codemirror_mode": {
    "name": "ipython",
    "version": 3
   },
   "file_extension": ".py",
   "mimetype": "text/x-python",
   "name": "python",
   "nbconvert_exporter": "python",
   "pygments_lexer": "ipython3",
   "version": "3.8.6"
  }
 },
 "nbformat": 4,
 "nbformat_minor": 1
}
