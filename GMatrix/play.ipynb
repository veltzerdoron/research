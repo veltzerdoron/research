{
 "cells": [
  {
   "cell_type": "code",
   "execution_count": 1,
   "metadata": {},
   "outputs": [
    {
     "name": "stderr",
     "output_type": "stream",
     "text": [
      "/home/doron/git/research/RESEARCH/lib/python3.8/site-packages/gensim/similarities/__init__.py:15: UserWarning: The gensim.similarities.levenshtein submodule is disabled, because the optional Levenshtein package <https://pypi.org/project/python-Levenshtein/> is unavailable. Install Levenhstein (e.g. `pip install python-Levenshtein`) to suppress this warning.\n",
      "  warnings.warn(msg)\n"
     ]
    }
   ],
   "source": [
    "import numpy as np\n",
    "from itertools import chain\n",
    "import word2vec"
   ]
  },
  {
   "cell_type": "code",
   "execution_count": 2,
   "metadata": {},
   "outputs": [],
   "source": [
    "model = word2vec.getModel()"
   ]
  },
  {
   "cell_type": "code",
   "execution_count": 3,
   "metadata": {},
   "outputs": [],
   "source": [
    "hebrew = 'אבגדהוזחטיכלמנסעפצקרשתךםןףץ'\n",
    "\n",
    "GMatrix = {\"normal\": {c:v for c, v in zip(hebrew, \n",
    "                                          chain(range(1, 10),\n",
    "                                                range(10, 100, 10),\n",
    "                                                range(100, 500, 100),\n",
    "                                                [20, 40, 50, 80, 90])\n",
    "                                         )},\n",
    "           \"big\": {c:v for c, v in zip(hebrew, \n",
    "                                       chain(range(1, 10),\n",
    "                                             range(10, 100, 10),\n",
    "                                             range(100, 1000, 100))\n",
    "                                         )},\n",
    "           \"small\": {c:v for c, v in zip(hebrew, \n",
    "                                         chain(range(1, 10),\n",
    "                                               range(1, 10),\n",
    "                                               range(1, 10)))},\n",
    "           \"serial\": {c:v for c, v in zip(hebrew, \n",
    "                                          chain(range(1, 28)))},\n",
    "           \"etbesh\": {c:v for c, v in zip(hebrew, \n",
    "                                          chain(reversed(range(100, 500, 100)),\n",
    "                                                reversed(range(10, 100, 10)),\n",
    "                                                reversed(range(1, 10)),\n",
    "                                                [30, 10, 9, 7, 6])\n",
    "                                         )},\n",
    "          }\n",
    "\n",
    "GMatrix[\"forward\"] = {c:v for c, v in zip(hebrew, np.cumsum(list(GMatrix[\"normal\"].values())))}\n",
    "GMatrix[\"private\"] = {c:v for c, v in zip(hebrew, map(lambda x: x ** 2, GMatrix[\"normal\"].values()))}\n",
    "\n",
    "def hebrew_str(s):\n",
    "    return all(\"\\u0590\" <= c <= \"\\u05EA\" or c in \" ,.:;'[](){}\" for c in s)\n",
    "\n",
    "def GMatria(s, method=\"normal\"):\n",
    "    if not hebrew_str(s):\n",
    "        pass\n",
    "#         print('None Hebrew letter encountered')\n",
    "    return(sum(GMatrix[method][c] for c in s if c in GMatrix[method]))\n",
    "\n",
    "GMatrix[\"semite\"] = {c:v for c, v in zip(hebrew, [GMatria('אלף'),\n",
    "                                                  GMatria('בית'),\n",
    "                                                  GMatria('גמל'),\n",
    "                                                  GMatria('דלת'),\n",
    "                                                  GMatria('הא'),\n",
    "                                                  GMatria('ויו'),\n",
    "                                                  GMatria('זיין'),\n",
    "                                                  GMatria('חית'),\n",
    "                                                  GMatria('טית'),\n",
    "                                                  GMatria('יוד'),\n",
    "                                                  GMatria('כף'),\n",
    "                                                  GMatria('למד'),\n",
    "                                                  GMatria('מם'),\n",
    "                                                  GMatria('נון'),\n",
    "                                                  GMatria('סמך'),\n",
    "                                                  GMatria('עין'),\n",
    "                                                  GMatria('פא'),\n",
    "                                                  GMatria('צדי'),\n",
    "                                                  GMatria('קוף'),\n",
    "                                                  GMatria('ריש'),\n",
    "                                                  GMatria('תיו'),\n",
    "                                                  GMatria('כף'),\n",
    "                                                  GMatria('מם'),\n",
    "                                                  GMatria('נון'),\n",
    "                                                  GMatria('פא'),\n",
    "                                                  GMatria('צדי')])}"
   ]
  },
  {
   "cell_type": "code",
   "execution_count": 4,
   "metadata": {},
   "outputs": [
    {
     "name": "stdout",
     "output_type": "stream",
     "text": [
      "['של', 'את', 'על', 'קטגוריה', 'הוא', 'עם', 'בשנת', 'גם', 'היה', 'היא']\n",
      "3\n",
      "4\n",
      "2\n",
      "1\n"
     ]
    }
   ],
   "source": [
    "#most popular words\n",
    "\n",
    "print(list(model.wv.key_to_index.keys())[:10])\n",
    "print(model.wv.key_to_index['קטגוריה'])\n",
    "print(model.wv.key_to_index['הוא'])\n",
    "print(model.wv.key_to_index['על'])\n",
    "print(model.wv.key_to_index['את'])\n",
    "\n",
    "# note: קטגוריה popularity is due to the Wikipedia bias"
   ]
  },
  {
   "cell_type": "code",
   "execution_count": 5,
   "metadata": {},
   "outputs": [
    {
     "data": {
      "text/plain": [
       "559687"
      ]
     },
     "execution_count": 5,
     "metadata": {},
     "output_type": "execute_result"
    }
   ],
   "source": [
    "# words in vocabulary\n",
    "len(model.wv.index_to_key)"
   ]
  },
  {
   "cell_type": "code",
   "execution_count": 6,
   "metadata": {},
   "outputs": [],
   "source": [
    "import random"
   ]
  },
  {
   "cell_type": "code",
   "execution_count": 7,
   "metadata": {},
   "outputs": [],
   "source": [
    "random_word = random.choice(model.wv.index_to_key)"
   ]
  },
  {
   "cell_type": "code",
   "execution_count": 8,
   "metadata": {},
   "outputs": [
    {
     "data": {
      "text/plain": [
       "'לידידותיים'"
      ]
     },
     "execution_count": 8,
     "metadata": {},
     "output_type": "execute_result"
    }
   ],
   "source": [
    "random_word"
   ]
  },
  {
   "cell_type": "code",
   "execution_count": 9,
   "metadata": {},
   "outputs": [
    {
     "name": "stdout",
     "output_type": "stream",
     "text": [
      "ארנבת\n"
     ]
    }
   ],
   "source": [
    "print(model.wv.doesnt_match(u'לקקני-תחת חמורים ארנבת ביבי נתניהו ליכוד בגין עבודה דבילים בבונים'.split()))"
   ]
  },
  {
   "cell_type": "code",
   "execution_count": 10,
   "metadata": {},
   "outputs": [
    {
     "name": "stdout",
     "output_type": "stream",
     "text": [
      "אנימה\n"
     ]
    }
   ],
   "source": [
    "print(model.wv.doesnt_match(u'בננה במבה אנימה חתול ירוק'.split()))"
   ]
  },
  {
   "cell_type": "code",
   "execution_count": 11,
   "metadata": {},
   "outputs": [
    {
     "name": "stdout",
     "output_type": "stream",
     "text": [
      "פוטין\n"
     ]
    }
   ],
   "source": [
    "print(model.wv.doesnt_match(u'בננה במבה אנימה חתול רוסית ירוק יפנית בבושקה בורשט בוריס פוטין'.split()))"
   ]
  },
  {
   "cell_type": "code",
   "execution_count": 12,
   "metadata": {},
   "outputs": [
    {
     "name": "stdout",
     "output_type": "stream",
     "text": [
      "שניצל\n"
     ]
    }
   ],
   "source": [
    "print(model.wv.doesnt_match(u'לילה בוקר ערב צהריים בוהריים שניצל'.split()))"
   ]
  },
  {
   "cell_type": "code",
   "execution_count": 13,
   "metadata": {},
   "outputs": [
    {
     "name": "stdout",
     "output_type": "stream",
     "text": [
      "נחום\n"
     ]
    }
   ],
   "source": [
    "print(model.wv.doesnt_match(u'סבתא חיית-מחמד נחום רקוב'.split()))"
   ]
  },
  {
   "cell_type": "code",
   "execution_count": 14,
   "metadata": {},
   "outputs": [
    {
     "name": "stdout",
     "output_type": "stream",
     "text": [
      "תותים\n"
     ]
    }
   ],
   "source": [
    "print(model.wv.doesnt_match(u'עץ שיח תותים ענף'.split()))"
   ]
  },
  {
   "cell_type": "code",
   "execution_count": 15,
   "metadata": {},
   "outputs": [
    {
     "name": "stdout",
     "output_type": "stream",
     "text": [
      "חמור\n"
     ]
    }
   ],
   "source": [
    "print(model.wv.doesnt_match(u'סוס כלב אריה חמור ציפור ליוויתן חתול'.split()))"
   ]
  },
  {
   "cell_type": "code",
   "execution_count": 16,
   "metadata": {},
   "outputs": [
    {
     "name": "stdout",
     "output_type": "stream",
     "text": [
      "[('וגבר', 0.7370234727859497), ('כשגבר', 0.7200382947921753), ('הגבר', 0.6857839822769165), ('טרנסקסואל', 0.6821978688240051), ('ואישה', 0.6764588356018066), ('קולקרני', 0.6690002083778381), ('אישה', 0.6689464449882507), ('ההטרוסקסואל', 0.6632973551750183), ('שגבר', 0.6631457209587097), ('התשיעיות', 0.6550136804580688)]\n"
     ]
    }
   ],
   "source": [
    "print(model.wv.most_similar(u'גבר', topn=10)[:10][:10])"
   ]
  },
  {
   "cell_type": "code",
   "execution_count": 17,
   "metadata": {},
   "outputs": [
    {
     "data": {
      "text/plain": [
       "0.6689464"
      ]
     },
     "execution_count": 17,
     "metadata": {},
     "output_type": "execute_result"
    }
   ],
   "source": [
    "model.wv.similarity(u'גבר', u'אישה')"
   ]
  },
  {
   "cell_type": "code",
   "execution_count": 18,
   "metadata": {},
   "outputs": [
    {
     "data": {
      "text/plain": [
       "0.62262964"
      ]
     },
     "execution_count": 18,
     "metadata": {},
     "output_type": "execute_result"
    }
   ],
   "source": [
    "model.wv.similarity(u'ילד', u'אישה')"
   ]
  },
  {
   "cell_type": "code",
   "execution_count": 21,
   "metadata": {},
   "outputs": [
    {
     "data": {
      "text/plain": [
       "0.9139837"
      ]
     },
     "execution_count": 21,
     "metadata": {},
     "output_type": "execute_result"
    }
   ],
   "source": [
    "model.wv.similarity(u'אשה', u'אישה')"
   ]
  },
  {
   "cell_type": "code",
   "execution_count": 24,
   "metadata": {},
   "outputs": [
    {
     "name": "stdout",
     "output_type": "stream",
     "text": [
      "רופאה\n"
     ]
    }
   ],
   "source": [
    "print(model.wv.most_similar(positive=[u'אישה',u'רופא'], negative=[u'גבר'], topn=1)[0][0])"
   ]
  },
  {
   "cell_type": "code",
   "execution_count": 38,
   "metadata": {},
   "outputs": [
    {
     "data": {
      "text/plain": [
       "['מרגלית', 'שניאורסון', 'שניאורסאהן', 'הרושבסקי', 'רודאשבסקי']"
      ]
     },
     "execution_count": 38,
     "metadata": {},
     "output_type": "execute_result"
    }
   ],
   "source": [
    "def solve(s, search=100000, top=5):\n",
    "    return [w for w, _ in model.wv.most_similar(positive=s.split(), topn=search)[:search][:search]\n",
    "            if GMatria(s) == GMatria(w)][:top]\n",
    "\n",
    "solve('בנימין נתניהו')"
   ]
  },
  {
   "cell_type": "code",
   "execution_count": 35,
   "metadata": {},
   "outputs": [
    {
     "name": "stdout",
     "output_type": "stream",
     "text": [
      "[('לוד', 0.6885830163955688), ('יפו', 0.6719703674316406), ('רמלה', 0.6711995601654053), ('וירושלים', 0.669437050819397), ('ותל', 0.6523510217666626), ('צפת', 0.6477228403091431), ('קטמון', 0.6456843018531799), ('ועכו', 0.6348494291305542), ('טבריה', 0.6347931027412415), ('פחריה', 0.6252927780151367), ('עכו', 0.6248534321784973), ('עפולה', 0.6231116056442261), ('שכם', 0.6219965219497681), ('ונצרת', 0.6212137937545776), ('ואץ', 0.6180585622787476), ('יבנה', 0.6155974864959717), ('נצרת', 0.6153237223625183), ('ושכם', 0.6121417284011841), ('וחיפה', 0.6111094355583191), ('באר', 0.6109397411346436), ('קטמונים', 0.6099338531494141), ('ריבנפלד', 0.6092780828475952), ('תל', 0.6089839935302734), ('סלוניקי', 0.6075294017791748), ('ניסנאס', 0.6073898077011108), ('ויפו', 0.60572350025177), ('אשקלון', 0.6044387221336365), ('נוזהא', 0.6018970608711243), ('רעננה', 0.6017535328865051), ('חיפה', 0.6012221574783325), ('האשפות', 0.5998803973197937), ('מועסכר', 0.5997419953346252), ('רמאללה', 0.5980470180511475), ('רחובות', 0.5976966023445129), ('וטבריה', 0.5976470708847046), ('ובאר', 0.596401035785675), ('מנשיה', 0.5960497856140137), ('קלנסווה', 0.5949833393096924), ('ועפולה', 0.594567596912384), ('לנצרת', 0.5940138101577759), ('נאפוליס', 0.5939055681228638), ('ובמתחם', 0.5929021239280701), ('וסינמטק', 0.592313826084137), ('דאהרייה', 0.5906248092651367), ('בקארדו', 0.5904080271720886), ('קהיר', 0.5903699994087219), ('يافا', 0.5900200605392456), ('aleje', 0.5894848108291626), ('שפרעם', 0.5882169008255005), ('ונהריה', 0.5880752205848694), ('אלסאילה', 0.5877017974853516), ('כרמיאל', 0.5875615477561951), ('שבמשכנות', 0.5873758792877197), ('ורמלה', 0.5870592594146729), ('סחנין', 0.5870195031166077), ('נבלוס', 0.5865834355354309), ('ואמאוס', 0.5861608982086182), ('והאמפיתיאטרון', 0.5858240127563477), ('וסביבותיה', 0.5856034159660339), ('גזיאנטפ', 0.5849683284759521), ('איסטנבול', 0.5848592519760132), ('דרעא', 0.5844027996063232), ('ארטא', 0.5836737155914307), ('ביירות', 0.5833785533905029), ('חליסה', 0.5828561782836914), ('ולמתחם', 0.5824365019798279), ('טרמיני', 0.5822110176086426), ('פאתי', 0.5815877318382263), ('הבוכארים', 0.581001877784729), ('מקאסד', 0.580929696559906), ('שאננים', 0.5801609754562378), ('והשרון', 0.5798303484916687), ('ולכיכר', 0.5781469345092773), ('והמתחמים', 0.57813560962677), ('עפל', 0.5778207182884216), ('נצורה', 0.5776996612548828), ('יפיע', 0.576389491558075), ('ולוד', 0.5763081312179565), ('מרסים', 0.5762927532196045), ('אנקרה', 0.5758428573608398), ('קניותר', 0.5757488012313843), ('רהט', 0.5754579305648804), ('טלביה', 0.5753189921379089), ('ורמאללה', 0.5752288699150085), ('אשדוד', 0.5747565627098083), ('גרודצקה', 0.5742878913879395), ('וטלביה', 0.5740252137184143), ('תמח', 0.573850154876709), ('שקודר', 0.5736435055732727), ('וללוד', 0.57356858253479), ('בבניינה', 0.5728631019592285), ('ביסאן', 0.5725902318954468), ('ויבנה', 0.5720258355140686), ('القدس', 0.5718135833740234), ('קלנסואה', 0.5716909170150757), ('חיפא', 0.5713640451431274), ('עכא', 0.5713001489639282), ('ומירושלים', 0.5711609125137329), ('الخليل', 0.5710391402244568), ('עומדאן', 0.5707404613494873)]\n"
     ]
    }
   ],
   "source": [
    "print(model.wv.most_similar(positive=[u'דבלין',u'גרמניה'], negative=[u'ברלין'], topn=100)[:100][:100])"
   ]
  }
 ],
 "metadata": {
  "kernelspec": {
   "display_name": "Python 3",
   "language": "python",
   "name": "python3"
  },
  "language_info": {
   "codemirror_mode": {
    "name": "ipython",
    "version": 3
   },
   "file_extension": ".py",
   "mimetype": "text/x-python",
   "name": "python",
   "nbconvert_exporter": "python",
   "pygments_lexer": "ipython3",
   "version": "3.8.6"
  }
 },
 "nbformat": 4,
 "nbformat_minor": 1
}
